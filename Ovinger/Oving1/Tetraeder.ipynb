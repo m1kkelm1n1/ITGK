{
 "cells": [
  {
   "cell_type": "markdown",
   "metadata": {
    "run_control": {
     "frozen": true
    }
   },
   "source": [
    "<nav class=\"navbar navbar-default\">\n",
    "  <div class=\"container-fluid\">\n",
    "    <div class=\"navbar-header\">\n",
    "      <a class=\"navbar-brand\" href=\"_Oving1.ipynb\">Øving 1</a>\n",
    "    </div>\n",
    "    <ul class=\"nav navbar-nav\">\n",
    "        <li><a href=\"Intro%20til%20jupyter.ipynb\">Intro til Jupyter</a></li>\n",
    "        <li><a href=\"Funksjoner%20og%20kalkulasjoner.ipynb\">Funksjoner og kalkulasjoner</a></li>\n",
    "        <li><a href=\"Plotting.ipynb\">Plotting</a></li>\n",
    "        <li><a href=\"Tall-%20og%20Typekonvertering.ipynb\">Tall- og Typekonvertering</a></li>\n",
    "        <li><a href=\"Geometri.ipynb\">Geometri</a></li>\n",
    "        <li><a href=\"Variable.ipynb\">Variable</a></li>\n",
    "        <li><a href=\"Priser%20med%20og%20uten%20moms.ipynb\">Priser med og uten moms</a></li>\n",
    "        <li><a href=\"Avrundingsfeil%20-%20subtraksjon.ipynb\">Avrundingsfeil - subtraksjon</a></li>\n",
    "        <li><a href=\"Avrundingsfeil%20-%20summering.ipynb\">Avrundingsfeil - summering</a></li>\n",
    "        <li><a href=\"Vitenskapelig%20notasjon.ipynb\">Vitenskapelig notasjon</a></li>\n",
    "        <li class = \"active\"><a href=\"Tetraeder.ipynb\">Tetraeder</a></li>\n",
    "    </ul>\n",
    "  </div>\n",
    "</nav>\n",
    "\n",
    "# Tetraeder \n",
    "\n",
    "**Læringsmål:**\n",
    "\n",
    "* Funksjoner\n",
    "* Aritmetiske operasjoner\n",
    "\n",
    "![img](./../../Resources/Images/Tetrahedron.jpg)\n",
    "\n",
    "<br><br>I denne oppgaven skal du finne overflateareal og volum til regulære tetraedere (også kjent som trekantede pyramider). Et regulært tetraeder er et geometrisk objekt bestående av fire likesidede trekanter.\n",
    "\n",
    "* **Overflatearealet til et tetraeder er A=$\\sqrt{3}a^{2}$**  \n",
    "* **Volumet til et tetraeder er V=$\\frac{\\sqrt{2}a^{3}}{12}$  hvor a=$\\frac{3}{\\sqrt{6}}h$** "
   ]
  },
  {
   "cell_type": "markdown",
   "metadata": {
    "deletable": false,
    "editable": false,
    "heading_collapsed": true,
    "run_control": {
     "frozen": true
    }
   },
   "source": [
    "## a)"
   ]
  },
  {
   "cell_type": "markdown",
   "metadata": {
    "hidden": true,
    "run_control": {
     "frozen": true
    }
   },
   "source": [
    "Skriv funksjonen `areal(h)` som beregner overflatearealet til et tetraeder, basert på høyden `h` til tetraederet. Test at programmet skriver ut 23.383 som resultat når høyden, h, er 3 (det gjør ikke noe om svaret får flere siffer).\n",
    "\n",
    "***Skriv koden din i blokka under.***"
   ]
  },
  {
   "cell_type": "code",
   "execution_count": null,
   "metadata": {
    "hidden": true
   },
   "outputs": [],
   "source": [
    "# Skriv koden din her"
   ]
  },
  {
   "cell_type": "markdown",
   "metadata": {
    "hidden": true
   },
   "source": [
    "Har du skrevet funksjonen rett, vil kodeblokken under gi følgende output:\n",
    "  \n",
    "```python\n",
    "Et tetraeder med høyde 3 har areal 23.383\n",
    "```"
   ]
  },
  {
   "cell_type": "code",
   "execution_count": null,
   "metadata": {
    "hidden": true
   },
   "outputs": [],
   "source": [
    "h = 3\n",
    "A = areal(h)\n",
    "\n",
    "print(f'Et tetraeder med høyde {h} har areal {A}')"
   ]
  },
  {
   "cell_type": "markdown",
   "metadata": {
    "deletable": false,
    "editable": false,
    "heading_collapsed": true,
    "hidden": true,
    "run_control": {
     "frozen": true
    }
   },
   "source": [
    "#### Hint"
   ]
  },
  {
   "cell_type": "markdown",
   "metadata": {
    "hidden": true,
    "run_control": {
     "frozen": true
    }
   },
   "source": [
    "Kvadratrot kan regnes ut enten ved å opphøye et tall i 1/2, f.eks. `x ** 0.5`, eller ved `numpy as np` og `np.sqrt` for å regne ut røttene. Det kan være lurt å lagre verdiene i variabler."
   ]
  },
  {
   "cell_type": "markdown",
   "metadata": {
    "deletable": false,
    "editable": false,
    "heading_collapsed": true,
    "run_control": {
     "frozen": true
    }
   },
   "source": [
    "## b)"
   ]
  },
  {
   "cell_type": "markdown",
   "metadata": {
    "hidden": true,
    "run_control": {
     "frozen": true
    }
   },
   "source": [
    "Lag nå en funksjon `volum(h)` som kalkulerer volumet til et tetraeder. Test at programmet skriver 5.846 når høyden (h) er 3 (det gjør ikke noe om svaret får flere siffer). Du kan skrive i samme kodeblokk som i oppgave **a)**.\n",
    "\n",
    "Kjør kodeblokken under for å teste at funksjonen din gir rett output:\n",
    "\n",
    "  \n",
    "```python\n",
    "Et tetraeder med høyde 3 har volum 5.846\n",
    "```"
   ]
  },
  {
   "cell_type": "code",
   "execution_count": null,
   "metadata": {
    "hidden": true
   },
   "outputs": [],
   "source": [
    "h = 3\n",
    "V = volum(h)\n",
    "\n",
    "print(f'Et tetraeder med høyde {h} har volum {volum(h)}')"
   ]
  },
  {
   "cell_type": "markdown",
   "metadata": {
    "deletable": false,
    "editable": false,
    "heading_collapsed": true,
    "run_control": {
     "frozen": true
    }
   },
   "source": [
    "## c)"
   ]
  },
  {
   "cell_type": "markdown",
   "metadata": {
    "hidden": true,
    "run_control": {
     "frozen": true
    }
   },
   "source": [
    "La du merke til at du i oppgave **a)** og **b)** måtte skrive samme kode for å finne verdien til `a`? Dette er en fin kode vi kan abstrahere ut av funksjonen.\n",
    "\n",
    "Lag funksjonen `calculate_a(h)`, som tar inn høyden `h` til et tetraeder, og kalkulerer $a = \\frac{3}{\\sqrt{6}}h$. Endre så funksjonene `areal` og `volum` til å bruke denne nye funksjonen. Du kan skrive den nye koden og endre funksjonene i samme boks som i oppgave **a)** og **b)**.\n",
    "\n",
    "Sjekk at funksjonene dine fortsatt fungerer med kodeblokken under. Hvis alt er gjort rett skal output bli:\n",
    "\n",
    "```python\n",
    "Et tetraeder med høyde 3 har areal 23.382\n",
    "Et tetraeder med høyde 3 har volum 5.845\n",
    "```\n",
    "\n",
    "Det gjør ingenting om output har flere desimaler."
   ]
  },
  {
   "cell_type": "code",
   "execution_count": null,
   "metadata": {
    "hidden": true
   },
   "outputs": [],
   "source": [
    "h = 3\n",
    "A = areal(h)\n",
    "V = volum(h)\n",
    "\n",
    "print(f'Et tetraeder med høyde {h} har areal {A}')\n",
    "print(f'Et tetraeder med høyde {h} har volum {volum(h)}')"
   ]
  }
 ],
 "metadata": {
  "kernelspec": {
   "display_name": "Python 3 (ipykernel)",
   "language": "python",
   "name": "python3"
  },
  "language_info": {
   "codemirror_mode": {
    "name": "ipython",
    "version": 3
   },
   "file_extension": ".py",
   "mimetype": "text/x-python",
   "name": "python",
   "nbconvert_exporter": "python",
   "pygments_lexer": "ipython3",
   "version": "3.9.10"
  },
  "toc": {
   "base_numbering": 1,
   "nav_menu": {},
   "number_sections": false,
   "sideBar": true,
   "skip_h1_title": false,
   "title_cell": "Table of Contents",
   "title_sidebar": "Contents",
   "toc_cell": false,
   "toc_position": {},
   "toc_section_display": true,
   "toc_window_display": false
  }
 },
 "nbformat": 4,
 "nbformat_minor": 2
}
