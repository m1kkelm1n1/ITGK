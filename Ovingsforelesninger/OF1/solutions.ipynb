{
 "cells": [
  {
   "cell_type": "markdown",
   "metadata": {},
   "source": [
    "# Øvingsforelesning 1 - TDT4110"
   ]
  },
  {
   "cell_type": "markdown",
   "metadata": {},
   "source": [
    "**Læremål**:\n",
    "\n",
    "* Bli introdusert til hva programmering er\n",
    "\n",
    "* Grunnleggende syntaks\n",
    "\n",
    "* Utføre enkle utregninger i Python\n"
   ]
  },
  {
   "cell_type": "markdown",
   "metadata": {},
   "source": [
    "## Oppgave 1"
   ]
  },
  {
   "cell_type": "markdown",
   "metadata": {},
   "source": [
    "**Hva tilsvarer 85 grader celsius i Fahrenheit?**\n",
    "\n",
    "$F = \\frac{9}{5} \\cdot Celsius + 32$"
   ]
  },
  {
   "cell_type": "code",
   "execution_count": 9,
   "metadata": {
    "collapsed": false,
    "pycharm": {
     "name": "#%%\n"
    }
   },
   "outputs": [
    {
     "data": {
      "text/plain": [
       "185.0"
      ]
     },
     "execution_count": 9,
     "metadata": {},
     "output_type": "execute_result"
    }
   ],
   "source": [
    "(9/5) * 85 + 32"
   ]
  },
  {
   "cell_type": "markdown",
   "metadata": {
    "collapsed": false,
    "pycharm": {
     "name": "#%% md\n"
    }
   },
   "source": [
    "## Oppgave 2"
   ]
  },
  {
   "cell_type": "markdown",
   "metadata": {},
   "source": [
    "**Regn ut følgende i Python ved hjelp av kode**\n",
    "\n",
    "$4 \\cdot -2-2\\left(2+-5\\right)$\n",
    "\n",
    "$-2--2-2$\n",
    "\n",
    "$5-2^{-1\\cdot-1}$\n",
    "\n",
    "$-(1 \\cdot 1 \\cdot 2 \\cdot 3 \\cdot 5 \\cdot -8)$"
   ]
  },
  {
   "cell_type": "code",
   "execution_count": 10,
   "metadata": {},
   "outputs": [
    {
     "data": {
      "text/plain": [
       "-2"
      ]
     },
     "execution_count": 10,
     "metadata": {},
     "output_type": "execute_result"
    }
   ],
   "source": [
    "4 * -2 - 2 * (2 + -5)"
   ]
  },
  {
   "cell_type": "code",
   "execution_count": 12,
   "metadata": {},
   "outputs": [
    {
     "data": {
      "text/plain": [
       "-2"
      ]
     },
     "execution_count": 12,
     "metadata": {},
     "output_type": "execute_result"
    }
   ],
   "source": [
    "(-2) - (-2) - 2"
   ]
  },
  {
   "cell_type": "code",
   "execution_count": 13,
   "metadata": {
    "collapsed": true
   },
   "outputs": [
    {
     "data": {
      "text/plain": [
       "3"
      ]
     },
     "execution_count": 13,
     "metadata": {},
     "output_type": "execute_result"
    }
   ],
   "source": [
    "5 - 2 ** (-1 * -1)"
   ]
  },
  {
   "cell_type": "code",
   "execution_count": 14,
   "metadata": {
    "collapsed": true
   },
   "outputs": [
    {
     "data": {
      "text/plain": [
       "240"
      ]
     },
     "execution_count": 14,
     "metadata": {},
     "output_type": "execute_result"
    }
   ],
   "source": [
    "-(1 * 1 * 2 * 3 * 5 * -8)"
   ]
  },
  {
   "cell_type": "markdown",
   "metadata": {},
   "source": [
    "## Oppgave 3"
   ]
  },
  {
   "cell_type": "markdown",
   "metadata": {},
   "source": [
    "**Er 1000 000 000 større enn $2^{31}$?**"
   ]
  },
  {
   "cell_type": "code",
   "execution_count": 18,
   "metadata": {
    "tags": []
   },
   "outputs": [
    {
     "data": {
      "text/plain": [
       "-1147483648"
      ]
     },
     "execution_count": 18,
     "metadata": {},
     "output_type": "execute_result"
    }
   ],
   "source": [
    "# Dersom dette gir et negativt tall, er 1 mrd mindre enn 2 ** 31\n",
    "1000000000 - 2 ** 31"
   ]
  },
  {
   "cell_type": "markdown",
   "metadata": {},
   "source": [
    "## Oppgave 4\n",
    "\n",
    "Hva blir resten når $2^7$ deles på $42$ "
   ]
  },
  {
   "cell_type": "code",
   "execution_count": 17,
   "metadata": {},
   "outputs": [
    {
     "data": {
      "text/plain": [
       "2"
      ]
     },
     "execution_count": 17,
     "metadata": {},
     "output_type": "execute_result"
    }
   ],
   "source": [
    "2 ** 7 % 42"
   ]
  },
  {
   "cell_type": "markdown",
   "metadata": {},
   "source": [
    "## Oppgave 5: Input\n",
    "\n",
    "**Lag et program som gjør følgende:**\n",
    "1. Tar inn to tall fra bruker\n",
    "2. Multipliserer dem \n",
    "3. Skriver ut `(tall 1) * (tall 2) = (resultat)`"
   ]
  },
  {
   "cell_type": "code",
   "execution_count": 26,
   "metadata": {},
   "outputs": [
    {
     "name": "stdout",
     "output_type": "stream",
     "text": [
      "10 * 12 = 120\n"
     ]
    }
   ],
   "source": [
    "tall1 = int(input(\"Skriv inn et tall: \"))\n",
    "tall2 = int(input(\"Skriv inn et tall: \"))\n",
    "\n",
    "resultat = tall1 * tall2\n",
    "\n",
    "print(f\"{tall1} * {tall2} = {resultat}\")"
   ]
  },
  {
   "cell_type": "markdown",
   "metadata": {},
   "source": [
    "## Oppgave 6: Innebygde funksjoner \n",
    "\n",
    "Skriv et program som spør brukeren om to tall og printer absoluttverdien av differansen\n",
    "<br>\n",
    "\n",
    "Hint: Bruk den innebygde funksjonen **abs()**"
   ]
  },
  {
   "cell_type": "code",
   "execution_count": null,
   "metadata": {},
   "outputs": [],
   "source": [
    "tall1 = int(input(\"Skriv inn et tall: \"))\n",
    "tall2 = int(input(\"Skriv inn et tall: \"))\n",
    "\n",
    "resultat = abs(tall1 - tall2)\n",
    "\n",
    "print(resultat)"
   ]
  },
  {
   "cell_type": "markdown",
   "metadata": {},
   "source": [
    "## Oppgave 7: Feilretting og variabeltyper\n",
    "\n",
    "Følgende program skal regne ut og printe summen av prisen på tre varer. Prisene er lagret som forskjellige variabeltyper. Undersøk feilmeldingene og rett koden slik at den skriver ut riktig totalsum."
   ]
  },
  {
   "cell_type": "code",
   "execution_count": 28,
   "metadata": {},
   "outputs": [
    {
     "name": "stdout",
     "output_type": "stream",
     "text": [
      "Totalsummen for varene er 49.0\n"
     ]
    }
   ],
   "source": [
    "banan_pris = 10.50\n",
    "melk_pris = 23.50 # Ta vekk fnuttene for å gjøre dette om fra string til float\n",
    "havregryn_pris = 15\n",
    "\n",
    "total_sum = banan_pris + melk_pris + havregryn_pris\n",
    "\n",
    "print('Totalsummen for varene er ' + str(total_sum)) # Gjør om til str slik at vi kan sette sammen"
   ]
  },
  {
   "cell_type": "markdown",
   "metadata": {},
   "source": [
    "## Oppgave 8: Bruk av variabler\n",
    "\n",
    "Regn ut volumet av en kjegle med radius 3 og høyde 7.\n",
    "\n",
    "$V = \\frac{\\pi r^2 h}{3}$"
   ]
  },
  {
   "cell_type": "code",
   "execution_count": 29,
   "metadata": {},
   "outputs": [
    {
     "name": "stdout",
     "output_type": "stream",
     "text": [
      "65.97344572538566\n"
     ]
    }
   ],
   "source": [
    "import math\n",
    "\n",
    "radius = 3\n",
    "height = 7\n",
    "\n",
    "volume = math.pi * radius ** 2 * height / 3\n",
    "\n",
    "print(volume)"
   ]
  },
  {
   "cell_type": "markdown",
   "metadata": {},
   "source": [
    "## Oppgave 9: Variabler og input \n",
    "\n",
    "1. Endre kjegleprogrammet fra oppgave 6 til å ta inn radius og høyde fra brukeren\n",
    "2. Verdiene skal være av desimaltall (float) "
   ]
  },
  {
   "cell_type": "code",
   "execution_count": null,
   "metadata": {},
   "outputs": [],
   "source": [
    "radius = float(input(\"Skriv inn radius: \"))\n",
    "height = float(input(\"Skriv inn height: \"))\n",
    "\n",
    "volume = math.pi * radius ** 2 * height / 3\n",
    "\n",
    "print(volume)"
   ]
  },
  {
   "cell_type": "markdown",
   "metadata": {},
   "source": [
    "## Oppgave 10: Sammenligning\n",
    "\n",
    "Ta inn to tall fra brukeren og skriv ut True om det første tallet er større enn det andre, False dersom ikke"
   ]
  },
  {
   "cell_type": "code",
   "execution_count": null,
   "metadata": {},
   "outputs": [],
   "source": [
    "tall1 = float(input(\"Skriv inn et tall: \")) # Kan velge mellom float og int her\n",
    "tall2 = float(input(\"Skriv inn et tall: \")) \n",
    "\n",
    "is_1_larger_than_2 = tall1 > tall2\n",
    "\n",
    "print(is_1_larger_than_2)"
   ]
  },
  {
   "cell_type": "markdown",
   "metadata": {},
   "source": [
    "## Oppgave 11 (Ekstraoppgave): Lag en funksjon\n",
    "\n",
    "Lag en funksjon som kan regne om fra Celsius til Fahrenheit\n",
    "\n",
    "$F = \\frac{9}{5} \\cdot Celsius + 32$"
   ]
  },
  {
   "cell_type": "code",
   "execution_count": 30,
   "metadata": {},
   "outputs": [],
   "source": [
    "def convert_celsius_to_fahrenheit(celsius):\n",
    "    return 9/5 * celsius + 32"
   ]
  },
  {
   "cell_type": "markdown",
   "metadata": {},
   "source": [
    "## Oppgave 12 (Ekstraoppgave): Plotting\n",
    "\n",
    "Plot Celsius på x-aksen og Fahrenheit på y-aksen, fra -100 til 100 Celsius (hint: np.linspace). \n",
    "\n",
    "Bonus: Legg til labels på aksene og en \"Legend\""
   ]
  },
  {
   "cell_type": "code",
   "execution_count": 34,
   "metadata": {},
   "outputs": [
    {
     "data": {
      "image/png": "[encoded data removed]",
      "text/plain": [
       "<Figure size 640x480 with 1 Axes>"
      ]
     },
     "metadata": {},
     "output_type": "display_data"
    }
   ],
   "source": [
    "import numpy as np\n",
    "from matplotlib import pyplot as plt\n",
    "\n",
    "x_axis = np.linspace(-100, 100)\n",
    "\n",
    "plt.plot(x_axis, convert_celsius_to_fahrenheit(x_axis), label=\"Fra vår funksjon\")\n",
    "plt.ylabel(\"Fahrenheit\")\n",
    "plt.xlabel(\"Celsius\")\n",
    "plt.legend()\n",
    "\n",
    "plt.show()"
   ]
  },
  {
   "cell_type": "markdown",
   "metadata": {
    "collapsed": false,
    "pycharm": {
     "name": "#%% md\n"
    }
   },
   "source": [
    "## Fritt kodefelt (Du kan bruke  dette for å teste egen kode)"
   ]
  },
  {
   "cell_type": "code",
   "execution_count": null,
   "metadata": {
    "collapsed": false,
    "pycharm": {
     "name": "#%%\n"
    }
   },
   "outputs": [],
   "source": [
    "# Skriv koden din her"
   ]
  }
 ],
 "metadata": {
  "kernelspec": {
   "display_name": "Python 3.10.6 64-bit",
   "language": "python",
   "name": "python3"
  },
  "language_info": {
   "codemirror_mode": {
    "name": "ipython",
    "version": 3
   },
   "file_extension": ".py",
   "mimetype": "text/x-python",
   "name": "python",
   "nbconvert_exporter": "python",
   "pygments_lexer": "ipython3",
   "version": "3.11.5"
  },
  "vscode": {
   "interpreter": {
    "hash": "b0fa6594d8f4cbf19f97940f81e996739fb7646882a419484c72d19e05852a7e"
   }
  }
 },
 "nbformat": 4,
 "nbformat_minor": 2
}
