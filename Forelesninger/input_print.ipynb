{
 "cells": [
  {
   "cell_type": "markdown",
   "id": "7cd78ead",
   "metadata": {
    "slideshow": {
     "slide_type": "slide"
    }
   },
   "source": [
    "__input( )__ og __print( )__\n",
    "- er funksjoner i Pythons standardbibliotek\n",
    "- kan brukes uten definisjon eller import"
   ]
  },
  {
   "cell_type": "markdown",
   "id": "4a662ebf",
   "metadata": {
    "slideshow": {
     "slide_type": "slide"
    }
   },
   "source": [
    "__input( )__\n",
    "- viser en ledetekst på skjermen\n",
    "    - kan bare ta __ett__ argument for ledeteksten\n",
    "- venter på at brukeren taster inn noe og slår ENTER\n",
    "- returnerer teksten brukeren skrev (unntatt linjeskiftet)"
   ]
  },
  {
   "cell_type": "code",
   "execution_count": null,
   "id": "294bc58d",
   "metadata": {
    "slideshow": {
     "slide_type": "fragment"
    }
   },
   "outputs": [],
   "source": [
    "input('Hva heter du? ')"
   ]
  },
  {
   "cell_type": "markdown",
   "id": "5f7b6d86",
   "metadata": {
    "slideshow": {
     "slide_type": "slide"
    }
   },
   "source": [
    "__print( )__\n",
    "- viser på skjermen informasjon som står i parentesen\n",
    "    - kan ta __vilkårlig mange__ argument\n",
    "- avslutter med linjeskift\n",
    "    - om ikke bedt om noe annet"
   ]
  },
  {
   "cell_type": "code",
   "execution_count": null,
   "id": "f4f23294",
   "metadata": {
    "slideshow": {
     "slide_type": "fragment"
    }
   },
   "outputs": [],
   "source": [
    "tekst = 'and one'\n",
    "tall = 3\n",
    "print('One', tekst, tekst, 'is', tall)"
   ]
  },
  {
   "cell_type": "markdown",
   "id": "a08a3a44",
   "metadata": {
    "slideshow": {
     "slide_type": "slide"
    }
   },
   "source": [
    "__input( )__ bare ett argument, hvordan mikse flere data i ledeteksten?\n",
    "- sette sammen en streng med __+__ \n",
    "- konvertere til tekst med __str()__ hvis data er tall\n",
    "- ELLER: bruke f-strenger"
   ]
  },
  {
   "cell_type": "code",
   "execution_count": 1,
   "id": "fbcf0346",
   "metadata": {
    "slideshow": {
     "slide_type": "fragment"
    }
   },
   "outputs": [
    {
     "data": {
      "text/plain": [
       "'bra'"
      ]
     },
     "execution_count": 1,
     "metadata": {},
     "output_type": "execute_result"
    }
   ],
   "source": [
    "navn = 'Dag Olav'\n",
    "alder = 58\n",
    "svar = input('Hvordan føles det å være ' + str(alder) + '-åring, den beste alderen, ' + navn + '? ')"
   ]
  },
  {
   "cell_type": "markdown",
   "id": "b4f2a184",
   "metadata": {
    "slideshow": {
     "slide_type": "slide"
    }
   },
   "source": [
    "## Oppgave: \n",
    "### Skriv et program for følgende dialog mellom datamaskin og bruker!\n",
    "\n",
    "Velkommen til NTNU og ITGK!<br>\n",
    "Oppgi navn: __(ditt navn)__<br>\n",
    "Hei, (ditt navn)!<br>\n",
    "Oppgi studium: __(ditt studium)__<br>\n",
    "Håper at du vil trives og ha nytte av ITGK på __(ditt studium)__, __(ditt navn)__.\n",
    "Lykke til!\n"
   ]
  },
  {
   "cell_type": "markdown",
   "id": "80e4750d",
   "metadata": {
    "slideshow": {
     "slide_type": "subslide"
    }
   },
   "source": [
    "NB:\n",
    "- __fet skrift__ indikerer info tastet inn av brukeren\n",
    "- Navn på person, studium og poengsum må tilpasses det brukeren skrev\n",
    "- Datamaskinen later som den hører dårlig, ignorerer tierdelen av poengsum\n",
    "    - det den svarer (her 3.25 for 63.25) kan regnes ut med modulo, f.eks. _poeng \\% 10_"
   ]
  },
  {
   "cell_type": "code",
   "execution_count": null,
   "id": "f2b3977d",
   "metadata": {},
   "outputs": [],
   "source": []
  },
  {
   "cell_type": "markdown",
   "id": "e4095e28",
   "metadata": {
    "slideshow": {
     "slide_type": "slide"
    }
   },
   "source": [
    "### Skjønnhetsfeil: overflødige mellomrom i løsning\n",
    "- før ! i linje 3 og 9\n",
    "- før ? i linje 5 og 7\n",
    "- før , i linje 9\n",
    "\n",
    "Kan rettes med å sette __sep = ''__ som et argument til print()\n",
    "- MEN: må da eksplisitt sette inn ønskede mellomrom"
   ]
  },
  {
   "cell_type": "code",
   "execution_count": null,
   "id": "180e7ed9",
   "metadata": {
    "slideshow": {
     "slide_type": "fragment"
    }
   },
   "outputs": [],
   "source": [
    "navn = 'Ada'\n",
    "print('Hei', navn, '!', sep = '')"
   ]
  },
  {
   "cell_type": "markdown",
   "id": "97205f23",
   "metadata": {
    "slideshow": {
     "slide_type": "slide"
    }
   },
   "source": [
    "Enklere å bruke __f-strenger__\n",
    "- funker likt både for __print()__, __input()__ \n",
    "    - og andre sted vi bruker strenger\n",
    "- enklere å få mellomrom akkurat der vi vil\n",
    "- konverterer tall til strenger uten videre\n",
    "- annen formattering også enklere"
   ]
  },
  {
   "cell_type": "code",
   "execution_count": null,
   "id": "4a2b80d0",
   "metadata": {
    "slideshow": {
     "slide_type": "fragment"
    }
   },
   "outputs": [],
   "source": [
    "navn = 'Ada'\n",
    "print(f'Hei {navn}!')"
   ]
  },
  {
   "cell_type": "markdown",
   "id": "78cfcdf3",
   "metadata": {
    "slideshow": {
     "slide_type": "slide"
    }
   },
   "source": [
    "Tar utgangspunkt i gammel kode, bytter til f-strenger.\n",
    "\n",
    "Siden slutten av programmet er 4 print-setninger på rad, kan vi også endre dette til 1 print med en streng som går over flere linjer - med trippelfnutter rundt."
   ]
  },
  {
   "cell_type": "code",
   "execution_count": null,
   "id": "5f56be11",
   "metadata": {
    "slideshow": {
     "slide_type": "fragment"
    }
   },
   "outputs": [],
   "source": []
  },
  {
   "cell_type": "markdown",
   "id": "893bf7a1",
   "metadata": {
    "slideshow": {
     "slide_type": "slide"
    }
   },
   "source": [
    "## Oppsummering\n",
    "\n",
    "__input( )__ viser ledetekst, lar brukeren skrive inn en tekst\n",
    "- brukerens tekst returneres som resultat\n",
    "- kun ett argument. \n",
    "    - flere data til ledetekst? Sette sammen til en lang streng med __+__\n",
    "__print( )__ skriver info ut på skjermen\n",
    "- vilkårlig mange argument, adskilt med komma\n",
    "\n",
    "Vanligvis enklest: __f-strenger__\n",
    "- hvis behov for miks av fast tekst og variable\n",
    "- mer om f-strenger i en egen episode om dette"
   ]
  }
 ],
 "metadata": {
  "celltoolbar": "Slideshow",
  "kernelspec": {
   "display_name": "Python 3 (ipykernel)",
   "language": "python",
   "name": "python3"
  },
  "language_info": {
   "codemirror_mode": {
    "name": "ipython",
    "version": 3
   },
   "file_extension": ".py",
   "mimetype": "text/x-python",
   "name": "python",
   "nbconvert_exporter": "python",
   "pygments_lexer": "ipython3",
   "version": "3.11.7"
  }
 },
 "nbformat": 4,
 "nbformat_minor": 5
}
