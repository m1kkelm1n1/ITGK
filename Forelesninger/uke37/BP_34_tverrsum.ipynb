{
 "cells": [
  {
   "cell_type": "markdown",
   "id": "d605d5c4",
   "metadata": {},
   "source": [
    "# Eksemplet: Regne ut tverrsummen til et tall\n",
    "\n",
    "Tverrsummen til et tall er summen av sifrene, f.eks. 125 har tverrsum 1+2+5 som blir 8\n",
    "\n",
    "## Oppgave: Lag en funksjon tverrsum()\n",
    "- som får inn et positivt heltall n\n",
    "- returnerer tverrsummen til heltallet\n",
    "\n",
    "Det fins flere ulike måter å løse dette på.\n",
    "\n",
    "Vår første løsningsidé er å finne ett og ett siffer ved å bruke modulo og heltallsdivisjon.\n",
    "- å finne første siffer i et tall er ikke så lett på denne måten\n",
    "- men siste kan trivielt finnes ved å ta modulo 10 (% 10), uansett hvor stort tallet er"
   ]
  },
  {
   "cell_type": "code",
   "execution_count": 1,
   "id": "cbfb5afb",
   "metadata": {},
   "outputs": [
    {
     "name": "stdout",
     "output_type": "stream",
     "text": [
      "5\n",
      "3\n"
     ]
    }
   ],
   "source": [
    "print(125 % 10)\n",
    "print(9832749283 % 10)"
   ]
  },
  {
   "cell_type": "markdown",
   "id": "20f69917",
   "metadata": {},
   "source": [
    "Hvordan deretter finne nest siste siffer?\n",
    "- Ved å heltallsdividere på 10, blir vi kvitt det bakerste sifferet\n",
    "- da vil det som før var nest bakerst, havne bakerst:\n",
    "\n",
    "Koden under viser hvordan vi ved gjentatt bruk av % og // finner de tre sifrene 5, 2, 1 som er med i 125"
   ]
  },
  {
   "cell_type": "code",
   "execution_count": 3,
   "id": "a7416747",
   "metadata": {},
   "outputs": [
    {
     "name": "stdout",
     "output_type": "stream",
     "text": [
      "bakerste siffer 5\n",
      "tallet foran 12\n",
      "bakerste siffer 2\n",
      "tallet foran 1\n",
      "bakerste siffer 1\n",
      "tallet foran 0\n"
     ]
    }
   ],
   "source": [
    "print('bakerste siffer', 125 % 10)\n",
    "print('tallet foran', 125 // 10)\n",
    "print('bakerste siffer', 12 % 10)\n",
    "print('tallet foran',12 // 10)\n",
    "print('bakerste siffer', 1 % 10)\n",
    "print('tallet foran',1 // 10)"
   ]
  },
  {
   "cell_type": "markdown",
   "id": "79e4c23d",
   "metadata": {},
   "source": [
    "Men hvordan kan vi nå få lagd ei fungerende løkke ut av dette?\n",
    "\n",
    "Her vet vi ikke hvor mange ganger løkka skal gå.\n",
    "- Det var 3 runder over, men med et større tall blir det flere, \n",
    "- det er vanskelig å si på forhånd. \n",
    "\n",
    "Dermed er while-løkke mer naturlig enn for-løkke her. Dermed tre spørsmål å besvare:\n",
    "- hva må vi gjøre før løkka? Vi skal regne ut en sum, naturlig å starte med å sette summen = 0\n",
    "- hva er betingelse for løkka. \n",
    "    - Av eksemplet med 125 over, ser vi at til slutt har 'tallet foran' kommet ned i 0.\n",
    "    - n > 0 virker dermed som en god betingelse, vi skal holde på så lenge tallet vi har igjen er >0\n",
    "- hva må gjøres i løkka\n",
    "    - ta % 10 og // 10 som gjort over, men på variable, ikke tallet 125\n",
    "        - siden funksjonen skal virke for generelle tall, ikke bare 125\n",
    "    - addere hvert nye siffer inn i summen\n",
    "    \n",
    "Satt sammen til en mulig løsning blir dette:"
   ]
  },
  {
   "cell_type": "code",
   "execution_count": 5,
   "id": "342b92ae",
   "metadata": {},
   "outputs": [
    {
     "name": "stdout",
     "output_type": "stream",
     "text": [
      "8\n",
      "14\n",
      "293\n"
     ]
    }
   ],
   "source": [
    "def tverrsum_while(n):\n",
    "    '''Funksjonen får inn et positivt heltall n\n",
    "       Returnerer tverrsummen til tallet'''\n",
    "    summen = 0\n",
    "    while n > 0:\n",
    "        siffer = n % 10\n",
    "        summen += siffer\n",
    "        n = n // 10\n",
    "    return summen\n",
    "\n",
    "## et par kall for å teste at det virker\n",
    "print(tverrsum_while(125))\n",
    "print(tverrsum_while(10003325))\n",
    "print(tverrsum_while(9238982345987234587239485792843592384987545298492875))"
   ]
  },
  {
   "cell_type": "markdown",
   "id": "8b04b6bb",
   "metadata": {},
   "source": [
    "I vår andre løsningsmåte spør vi: Kunne vi ikke bare ha brukt ei for-løkke og kjørt gjennom tallet siffer for siffer?\n",
    "\n",
    "Dette går ikke direkte, fordi et heltall ikke er en sekvens:"
   ]
  },
  {
   "cell_type": "code",
   "execution_count": 6,
   "id": "c0d4a0b7",
   "metadata": {},
   "outputs": [
    {
     "ename": "TypeError",
     "evalue": "'int' object is not iterable",
     "output_type": "error",
     "traceback": [
      "\u001b[1;31m---------------------------------------------------------------------------\u001b[0m",
      "\u001b[1;31mTypeError\u001b[0m                                 Traceback (most recent call last)",
      "\u001b[1;32m~\\AppData\\Local\\Temp/ipykernel_2436/3837876073.py\u001b[0m in \u001b[0;36m<module>\u001b[1;34m\u001b[0m\n\u001b[0;32m      1\u001b[0m \u001b[0msummen\u001b[0m \u001b[1;33m=\u001b[0m \u001b[1;36m0\u001b[0m\u001b[1;33m\u001b[0m\u001b[1;33m\u001b[0m\u001b[0m\n\u001b[1;32m----> 2\u001b[1;33m \u001b[1;32mfor\u001b[0m \u001b[0msiffer\u001b[0m \u001b[1;32min\u001b[0m \u001b[1;36m125\u001b[0m\u001b[1;33m:\u001b[0m\u001b[1;33m\u001b[0m\u001b[1;33m\u001b[0m\u001b[0m\n\u001b[0m\u001b[0;32m      3\u001b[0m     \u001b[0msummen\u001b[0m \u001b[1;33m+=\u001b[0m \u001b[0msiffer\u001b[0m\u001b[1;33m\u001b[0m\u001b[1;33m\u001b[0m\u001b[0m\n",
      "\u001b[1;31mTypeError\u001b[0m: 'int' object is not iterable"
     ]
    }
   ],
   "source": [
    "summen = 0\n",
    "for siffer in 125:\n",
    "    summen += siffer"
   ]
  },
  {
   "cell_type": "markdown",
   "id": "1a8671a2",
   "metadata": {},
   "source": [
    "Spørsmålet blir da: Kan vi konvertere et tall til en annen datatype, som er en sekvens?\n",
    "- Ja! For eksempel til streng\n",
    "- men da blir innholdet i løkkevariabelen tegnet '1', tegnet '2' osv.\n",
    "    - så vi må konvertere tilbake til int() for å kunne addere:"
   ]
  },
  {
   "cell_type": "code",
   "execution_count": 7,
   "id": "23d0c215",
   "metadata": {},
   "outputs": [
    {
     "name": "stdout",
     "output_type": "stream",
     "text": [
      "8\n"
     ]
    }
   ],
   "source": [
    "summen = 0\n",
    "for siffer in str(125):\n",
    "    summen += int(siffer)\n",
    "print(summen)"
   ]
  },
  {
   "cell_type": "markdown",
   "id": "bd07d437",
   "metadata": {},
   "source": [
    "Satt sammen til en komplett løsning for funksjonen blir dette:"
   ]
  },
  {
   "cell_type": "code",
   "execution_count": 8,
   "id": "9ae85e56",
   "metadata": {},
   "outputs": [
    {
     "name": "stdout",
     "output_type": "stream",
     "text": [
      "8\n",
      "14\n",
      "293\n"
     ]
    }
   ],
   "source": [
    "def tverrsum_for(n):\n",
    "    '''Funksjonen får inn et positivt heltall n\n",
    "       Returnerer tverrsummen til tallet'''\n",
    "    summen = 0\n",
    "    for siffer in str(n):\n",
    "        summen += int(siffer)\n",
    "    return summen\n",
    "\n",
    "## et par kall for å teste at det virker\n",
    "print(tverrsum_while(125))\n",
    "print(tverrsum_while(10003325))\n",
    "print(tverrsum_while(9238982345987234587239485792843592384987545298492875))"
   ]
  },
  {
   "cell_type": "markdown",
   "id": "c84ef022",
   "metadata": {},
   "source": [
    "## Oppsummering\n",
    "Dette eksemplet illustrerer at selv et ganske \"lite\" problem som å finne tverrsummen til et tall kan løses på flere ulike måter. \n",
    "- løsningen med while baserer seg på at vi tar modulo og dividerer, inntil tallet er redusert til null\n",
    "- løsningen med for trenger derimot en sekvens å iterere gjennom, dette får vi til ved å konvertere tallet til en streng\n",
    "\n",
    "Typekonvertering kan i mange tilfeller være en interessant løsningsstrategi\n",
    "- hvis det fins andre typer som har egenskaper som egner seg spesielt for oppgaven"
   ]
  },
  {
   "cell_type": "code",
   "execution_count": null,
   "id": "134b6078",
   "metadata": {},
   "outputs": [],
   "source": []
  }
 ],
 "metadata": {
  "kernelspec": {
   "display_name": "Python 3 (ipykernel)",
   "language": "python",
   "name": "python3"
  },
  "language_info": {
   "codemirror_mode": {
    "name": "ipython",
    "version": 3
   },
   "file_extension": ".py",
   "mimetype": "text/x-python",
   "name": "python",
   "nbconvert_exporter": "python",
   "pygments_lexer": "ipython3",
   "version": "3.9.7"
  }
 },
 "nbformat": 4,
 "nbformat_minor": 5
}
