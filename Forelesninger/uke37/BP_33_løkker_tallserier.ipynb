{
 "cells": [
  {
   "cell_type": "markdown",
   "id": "969966d2",
   "metadata": {},
   "source": [
    "# Eksempel: summering av tallserier\n",
    "\n",
    "## Oppgave. Lag en funksjon som\n",
    "- får inn et positivt heltall n\n",
    "- returnerer summen av alle tall fra og med 1 til og med n, dvs. 1 + 2 + ... + n\n",
    "\n",
    "Lag både en variant med while-løkke og en variant med for-løkke"
   ]
  },
  {
   "cell_type": "markdown",
   "id": "6208740e",
   "metadata": {},
   "source": [
    "Hvordan tenke om løsning her?\n",
    "\n",
    "Vi skal regne ut en sum. Med while-løkke trenger vi å opprette før løkka\n",
    "- en variabel for denne summen. Den begynner typisk på 0 (før vi har lagt til noe)\n",
    "- en annen variabel for tallet som vi gradvis skal øke. Begynner på 1...\n",
    "\n",
    "Siden summen er det som skal regnes ut, må den returneres til slutt\n",
    "- dette må gjøres __etter__ løkka\n",
    "    - (hvis vi returnerer __i__ løkka, vil vi avslutte funksjonen allerede i første runde)\n",
    "    \n",
    "Dette gir en foreløpig kladd til løsning:"
   ]
  },
  {
   "cell_type": "code",
   "execution_count": null,
   "id": "2093c271",
   "metadata": {},
   "outputs": [],
   "source": [
    "def sum_1_n_while(n):\n",
    "    '''Får inn et positivt heltall n\n",
    "       Returnerer summen 1 + 2 + ... + n'''\n",
    "    summen = 0\n",
    "    tallet = 1\n",
    "    while tallet : #TO be done, passende betingelse...\n",
    "        # TO be done, innmat i løkka\n",
    "    return summen"
   ]
  },
  {
   "cell_type": "markdown",
   "id": "c2b42fb2",
   "metadata": {},
   "source": [
    "Denne koden vil ikke kjøre, vi må legge til\n",
    "- en betingelse etter while\n",
    "- innmat i løkka\n",
    "\n",
    "Hva skal betingelsen være? Her kan man tenke:\n",
    "- Hva er det aller siste tallet som skal komme med i summen?\n",
    "- Jo, det er n\n",
    "- For at n skal komme med, må betingelsen være tallet <= n\n",
    "    - hvis den bare var < n, ville n ikke bli med\n",
    "\n",
    "Og hva med innmaten i løkka?\n",
    "- tallserien vil skal summere, er 1, 2, 3, ..., n. Dvs., for hver runde må tallet økes med 1\n",
    "- og hvert av disse tallene må legges til den summen vi hadde fra før, dvs. summen økes med tall\n",
    "\n",
    "Men hva blir riktig rekkefølge. Blir det...?"
   ]
  },
  {
   "cell_type": "code",
   "execution_count": null,
   "id": "cfec3c23",
   "metadata": {},
   "outputs": [],
   "source": [
    "def sum_1_n_while(n):\n",
    "    summen = 0\n",
    "    tallet = 1\n",
    "    while tallet <= n:\n",
    "        tallet += 1\n",
    "        summen += tallet\n",
    "    return summen"
   ]
  },
  {
   "cell_type": "markdown",
   "id": "9514394d",
   "metadata": {},
   "source": [
    "...eller blir det...??"
   ]
  },
  {
   "cell_type": "code",
   "execution_count": null,
   "id": "7bc74e9c",
   "metadata": {},
   "outputs": [],
   "source": [
    "def sum_1_n_while(n):\n",
    "    summen = 0\n",
    "    tallet = 1\n",
    "    while tallet <= n:\n",
    "        summen += tallet\n",
    "        tallet += 1\n",
    "    return summen"
   ]
  },
  {
   "cell_type": "markdown",
   "id": "9d8e032f",
   "metadata": {},
   "source": [
    "Her må vi se: hva er tallet når vi kommer inn til løkka?\n",
    "- jo, det er 1 - som er det første tallet som skal med i summen\n",
    "- hvis vi gjør tallet += 1 først i løkka, blir det feil - for da blir tallet 2 før vi rekker å summere det inn\n",
    "- altså er det andre alternativet korrekt her, vi må først addere tallet inn i summen, deretter øke tallet med 1\n",
    "\n",
    "Løsningen blir altså:"
   ]
  },
  {
   "cell_type": "code",
   "execution_count": 6,
   "id": "49ae9fb2",
   "metadata": {},
   "outputs": [
    {
     "name": "stdout",
     "output_type": "stream",
     "text": [
      "15\n"
     ]
    }
   ],
   "source": [
    "def sum_1_n_while(n):\n",
    "    '''Får inn et positivt heltall n\n",
    "       Returnerer summen 1 + 2 + ... + n'''\n",
    "    summen = 0\n",
    "    tallet = 1\n",
    "    while tallet <= n:\n",
    "        summen += tallet\n",
    "        tallet += 1\n",
    "    return summen\n",
    "\n",
    "print(sum_1_n_while(5))"
   ]
  },
  {
   "cell_type": "markdown",
   "id": "c877bdba",
   "metadata": {},
   "source": [
    "Med erfaringene fra while-løkka friskt i minne, blir for-løkka enklere.\n",
    "\n",
    "Vi må likeledes starte med å sette summen = 0\n",
    "\n",
    "Til for-løkka kan vi bruke range\n",
    "- det andre argumentet til range er til, men __ikke__ med\n",
    "- vi må derfor ha range(1, n+1) for å få tallsekvensen 1, 2, ..., n\n",
    "\n",
    "I for-løkka trenger vi ikke oppdatere tallet inni løkka fordi for-setninga gjør det automatisk. Dermed blir løsninga enklere her:"
   ]
  },
  {
   "cell_type": "code",
   "execution_count": 5,
   "id": "7097338a",
   "metadata": {},
   "outputs": [
    {
     "name": "stdout",
     "output_type": "stream",
     "text": [
      "15\n"
     ]
    }
   ],
   "source": [
    "def sum_1_n_for(n):\n",
    "    '''Får inn et positivt heltall n\n",
    "       Returnerer summen 1 + 2 + ... + n'''\n",
    "    summen = 0\n",
    "    for tallet in range(1, n+1): # gir sekvens 1, 2, 3, ..., n\n",
    "        summen += tallet\n",
    "    return summen\n",
    "\n",
    "print(sum_1_n_for(5))"
   ]
  },
  {
   "cell_type": "markdown",
   "id": "660429d9",
   "metadata": {},
   "source": [
    "Vi ser at for dette problemet var for-løkke litt enklere enn while løkke\n",
    "- med for-løkka slipper vi ei kodelinje for å sette tallet til 1\n",
    "- slipper også eksplisitt å øke tallet med 1, fordi for-løkka gjør dette automatisk\n",
    "\n",
    "Oppgaven med å summere disse tallene kan også løses på flere andre måter. Nedenfor vises tre eksempler til:\n",
    "- en løsning med den innebygde sum-funksjonen fra Pythons standardbibliotek anvendt rett på range-objektet\n",
    "- en løsning med numpy.sum-funksjonen anvendt på et tilsvarende array laget med numpy.arange()\n",
    "- en løsning som benytter Gauss sin formel for slike summer\n",
    "\n",
    "Som vi ser, gir alle identisk svar 15 med 5 som argument (som er riktig, 1+2+3+4+5 er 15)"
   ]
  },
  {
   "cell_type": "code",
   "execution_count": 13,
   "id": "cc6e98d9",
   "metadata": {},
   "outputs": [
    {
     "data": {
      "text/plain": [
       "(15, 15, 15)"
      ]
     },
     "execution_count": 13,
     "metadata": {},
     "output_type": "execute_result"
    }
   ],
   "source": [
    "import numpy as np\n",
    "\n",
    "def sum_1_n_range(n):\n",
    "    '''Regner ut summen 1 + 2 + ... + n ved hjelp av standard sum()-funksjon'''\n",
    "    return sum(range(1,n+1))\n",
    "\n",
    "def sum_1_n_arange(n):\n",
    "    '''Regner ut summen 1 + 2 + ... + n ved hjelp av numpy.sum()-funksjon'''\n",
    "    return np.sum(np.arange(1,n+1))\n",
    "\n",
    "def sum_1_n_gauss(n):\n",
    "    '''Regner ut summen 1 + 2 + ... + n ved Gauss sin formel'''\n",
    "    return (n+1) * n // 2\n",
    "\n",
    "sum_1_n_range(5), sum_1_n_arange(5), sum_1_n_gauss(5)"
   ]
  },
  {
   "cell_type": "markdown",
   "id": "f40fca35",
   "metadata": {},
   "source": [
    "__Det som kommer videre her, er for spesielt interesserte; du trenger det ikke for å klare de neste øvingene__\n",
    "\n",
    "Hvilken funksjon er \"best\"? Det kommer an på bruksområdet. Men anta at\n",
    "- vi blant annet tenker å bruke den på skikkelig lange heltall\n",
    "- da er det viktig at den fortsatt gir riktig svar\n",
    "- og at den ikke bruker altfor lang tid (og unødig mye strøm) på beregningen\n",
    "\n",
    "I koden nedenfor bruker vi time.perf_counter() for å måle tiden på utførelse av de ulike funksjonene"
   ]
  },
  {
   "cell_type": "code",
   "execution_count": 28,
   "id": "36bf2ddc",
   "metadata": {},
   "outputs": [
    {
     "name": "stdout",
     "output_type": "stream",
     "text": [
      "           277642830    0.002645700000\n",
      "           277642830    0.001138800000\n",
      "           277642830    0.000289700000\n",
      "           277642830    0.000271500000\n",
      "           277642830    0.000001300000\n"
     ]
    }
   ],
   "source": [
    "import time\n",
    "import numpy as np\n",
    "\n",
    "def sum_1_n_while(n):\n",
    "    '''Får inn et positivt heltall n\n",
    "       Returnerer summen 1 + 2 + ... + n'''\n",
    "    summen = 0\n",
    "    tallet = 1\n",
    "    while tallet <= n:\n",
    "        summen += tallet\n",
    "        tallet += 1\n",
    "    return summen\n",
    "\n",
    "def sum_1_n_for(n):\n",
    "    '''Får inn et positivt heltall n\n",
    "       Returnerer summen 1 + 2 + ... + n'''\n",
    "    summen = 0\n",
    "    for tallet in range(1, n+1): # gir sekvens 1, 2, 3, ..., n\n",
    "        summen += tallet\n",
    "    return summen\n",
    "\n",
    "def sum_1_n_range(n):\n",
    "    '''Regner ut summen 1 + 2 + ... + n ved hjelp av standard sum()-funksjon'''\n",
    "    return sum(range(1,n+1))\n",
    "\n",
    "def sum_1_n_arange(n):\n",
    "    '''Regner ut summen 1 + 2 + ... + n ved hjelp av numpy.sum()-funksjon'''\n",
    "    return np.sum(np.arange(1,n+1))\n",
    "\n",
    "def sum_1_n_gauss(n):\n",
    "    '''Regner ut summen 1 + 2 + ... + n ved Gauss sin formel'''\n",
    "    return (n+1) * n // 2\n",
    "\n",
    "x = 23564 # et stort heltall\n",
    "# denne løkka har ei liste med funksjonene, dvs. hver runde av løkka prøver en ny funksjon\n",
    "for func in [sum_1_n_while, sum_1_n_for, sum_1_n_range, sum_1_n_arange, sum_1_n_gauss]:\n",
    "    time_0 = time.perf_counter() # starttidspunkt for stoppeklokka\n",
    "    svar = func(x) # her brukes funksjonen for å regne ut svaret\n",
    "    time_spent = time.perf_counter() - time_0 # brukt tid er nåtidspunkt minus starttidspunkt\n",
    "    print(f'{svar:20}    {time_spent:14.12f}') # printer resultatet\n",
    "    # NB: viktig at print kommer etter at tidtaking er stoppet, ellers vil printen stå for en god del av tidsbruken"
   ]
  },
  {
   "cell_type": "markdown",
   "id": "77ccfc0c",
   "metadata": {},
   "source": [
    "Som vi ser, alle får samme svar, men gauss-varianten (nederst) er klart raskest i sekunder brukt\n",
    "\n",
    "Vi prøver et enda større tall (dette kommer til å ta en del mer tid):"
   ]
  },
  {
   "cell_type": "code",
   "execution_count": 27,
   "id": "285b20a6",
   "metadata": {},
   "outputs": [
    {
     "name": "stdout",
     "output_type": "stream",
     "text": [
      "     277631059782000    1.892278000000\n",
      "     277631059782000    1.035873500000\n",
      "     277631059782000    0.601982300000\n",
      "            78801264    0.031163000000\n",
      "     277631059782000    0.000001500000\n"
     ]
    }
   ],
   "source": [
    "x = 23564000 # et stort heltall\n",
    "for func in [sum_1_n_while, sum_1_n_for, sum_1_n_range, sum_1_n_arange, sum_1_n_gauss]:\n",
    "    time_0 = time.perf_counter()\n",
    "    svar = func(x)\n",
    "    time_spent = time.perf_counter() - time_0\n",
    "    print(f'{svar:20}    {time_spent:14.12f}')"
   ]
  },
  {
   "cell_type": "markdown",
   "id": "2a5fffdb",
   "metadata": {},
   "source": [
    "Igjen er gauss-varianten raskest, og enda mye klarere enn sist. Hvorfor?\n",
    "- grunnen er at den gjør kun en addisjon, en multiplikasjon og en heltallsdivisjon, uansett hvor stort tallet er\n",
    "- alle de andre variantene gjør et økende antall addisjoner jo større tall\n",
    "    - while-varianten og for-varianten har disse addisjonene direkte synlige i koden, en for hver runde av løkka\n",
    "    - range- og arange-variantene har addisjonene skjult i sum() og np.sum()-funksjonene. \n",
    "        - De er mer effektive enn våre egne while- og for-løkker, men har likevel økende tidsbruk med økende tallstørrelse\n",
    "- for numpy-varianten kan det dessuten merkes at den gir feil svar\n",
    "    - numpy takler ikke lange heltall særlig godt hvis vi bare gjør beregningen rett fram som dette\n",
    "    - numpy er primært ment for effektive beregninger med flyttall\n",
    "    \n",
    "Dette eksemplet illustrerer at et problem kan \"se ut\" som et typisk løkkeproblem\n",
    "- f.eks. summer alle tallene fra og med 1 til og med n\n",
    "- men det kan finnes bedre løsninger som __ikke__ bruker løkke\n",
    "- her er løsning uten løkke mulig fordi vi har en regulær tallserie hvor alle opplysninger er kjent på forhånd"
   ]
  }
 ],
 "metadata": {
  "kernelspec": {
   "display_name": "Python 3 (ipykernel)",
   "language": "python",
   "name": "python3"
  },
  "language_info": {
   "codemirror_mode": {
    "name": "ipython",
    "version": 3
   },
   "file_extension": ".py",
   "mimetype": "text/x-python",
   "name": "python",
   "nbconvert_exporter": "python",
   "pygments_lexer": "ipython3",
   "version": "3.9.7"
  }
 },
 "nbformat": 4,
 "nbformat_minor": 5
}
