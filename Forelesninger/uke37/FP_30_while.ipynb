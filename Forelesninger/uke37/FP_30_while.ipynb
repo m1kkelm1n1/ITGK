{
 "cells": [
  {
   "cell_type": "markdown",
   "id": "a140f0d8",
   "metadata": {},
   "source": [
    "# While-løkke, virkemåte\n",
    "While-løkke brukes når vi vil repetere en handling.\n",
    "- Handlingen repeteres så lenge betingelsen som står bak while er __True__.\n",
    "- koden som står på innrykk under while, er den som tilhører løkka.\n",
    "\n",
    "Hvis betingelsen bak while er __False__ blir løkka ikke utført. Denne koden printer derfor kun start og stopp, ikke fortsett..."
   ]
  },
  {
   "cell_type": "code",
   "execution_count": null,
   "id": "3eeada66",
   "metadata": {},
   "outputs": [],
   "source": [
    "print('start')\n",
    "while False:\n",
    "    print('fortsett')\n",
    "print('stopp')"
   ]
  },
  {
   "cell_type": "markdown",
   "id": "7397a5d7",
   "metadata": {},
   "source": [
    "...og denne printer kun start, siden både fortsett og stopp står på innrykk og dermed tilhører løkka:"
   ]
  },
  {
   "cell_type": "code",
   "execution_count": null,
   "id": "8c5c3259",
   "metadata": {},
   "outputs": [],
   "source": [
    "print('start')\n",
    "while False:\n",
    "    print('fortsett')\n",
    "    print('stopp')"
   ]
  },
  {
   "cell_type": "markdown",
   "id": "7e404043",
   "metadata": {},
   "source": [
    "Med __True__ bak while, vil løkka gå i det uendelige, såkalt \"evig løkke\".\n",
    "- koden under printer stadig nye linjer med fortsett, kommer aldri til stopp\n",
    "\n",
    "Alle som har programmert en del, har ved en feil fått evig løkke.\n",
    "- Heldigvis er det bare å trykke på STOP (den firkanta knappen oppe ved siden av Run) i Jupyter, \n",
    "- eller tilsvarende knapp i annen programmeringsomgivelse, eventuelt Ctrl-C."
   ]
  },
  {
   "cell_type": "code",
   "execution_count": null,
   "id": "7fb1f57d",
   "metadata": {},
   "outputs": [],
   "source": [
    "print('start')\n",
    "while True:\n",
    "    print('fortsett')\n",
    "print('stopp')"
   ]
  },
  {
   "cell_type": "markdown",
   "id": "04339071",
   "metadata": {},
   "source": [
    "Å sette True eller False direkte i betingelsen er lite meningsfylt\n",
    "- men bare gjort her for å vise hvordan mekanismen virker:\n",
    "- løkka kjører mens vi har True, kjører ikke hvis False\n",
    "\n",
    "Det ER situasjoner hvor en bruker **while True**, og i stedet har en mekanisme for å bryte\n",
    "ut av løkka med **break**.\n",
    "\n",
    "\n",
    "Vanligvis vil betingelsen være basert på en eller flere variable\n",
    "- hvor variablene endre verdi underveis, slik at vi før eller senere får False\n",
    "    - med mindre vi faktisk ønsker evig løkke\n",
    "    \n",
    "Nedenfor kommer noen små eksempler på bruk av while-løkke:"
   ]
  },
  {
   "cell_type": "code",
   "execution_count": null,
   "id": "0a242972",
   "metadata": {},
   "outputs": [],
   "source": [
    "def stabil_latter(antall):\n",
    "    latter = 'Tillat meg å le: '\n",
    "    tall = 1\n",
    "    while tall <= antall:\n",
    "        latter += 'ha'\n",
    "        tall += 1\n",
    "    return latter\n",
    "\n",
    "print(stabil_latter(0))\n",
    "print(stabil_latter(3))"
   ]
  },
  {
   "cell_type": "markdown",
   "id": "ce238dba",
   "metadata": {},
   "source": [
    "Som vi ser over:\n",
    "- når 0 settes inn for antall, kjører ikke løkka i det hele tatt\n",
    "    - betingelsen blir 1 <= 0 som er False\n",
    "    - returnert streng blir kun 'Tillat meg å le: ' uten noen latter bak\n",
    "- når 3 settes inn for antall, kjører løkka tre ganger\n",
    "    - 'hahaha' er blitt lagt til bakerst i strengen, en 'ha' for hver runde av løkka\n",
    "    \n",
    "For å se hva som skjer i detalj, kan vi f.eks. printe verdiene til tall og latter både først og sist i hver runde av løkka:"
   ]
  },
  {
   "cell_type": "code",
   "execution_count": null,
   "id": "7d2cf230",
   "metadata": {},
   "outputs": [],
   "source": [
    "def stabil_latter(antall):\n",
    "    latter = 'Tillat meg å le: '\n",
    "    tall = 1\n",
    "    while tall <= antall:\n",
    "        print(tall, latter) # inkludert for illustrasjon av virkemåte\n",
    "        latter += 'ha'\n",
    "        tall += 1\n",
    "        print(tall, latter) # inkludert for illustrasjon av virkemåte\n",
    "    return latter\n",
    "\n",
    "print(stabil_latter(3))"
   ]
  },
  {
   "cell_type": "markdown",
   "id": "5ffce4aa",
   "metadata": {},
   "source": [
    "Dvs., vi får akkurat 3x 'ha' fordi\n",
    "- tall starter med verdien 1 (før løkka)\n",
    "- i hver runde av løkka blir tall deretter økt med 1\n",
    "    - dvs. blir 2 etter at første 'ha' legges til, 3 etter at andre 'ha' legges til\n",
    "    - betingelsen er fortsatt sann, både 2 <= 3 og 3 <= 3 er True\n",
    "    - etter at tredje 'ha' legges til, blir tall 4\n",
    "- 4 <= 3 er False, dermed stopper løkka og vi går videre med return-setninga\n",
    "\n",
    "Neste eksempel er litt mer i retning av å være noe nyttig, en funksjon som skal finne ut hvor mange ganger 2 er faktor i tallet som blir gitt inn:"
   ]
  },
  {
   "cell_type": "code",
   "execution_count": null,
   "id": "426044fd",
   "metadata": {},
   "outputs": [],
   "source": [
    "def antall_ganger_2(tall):\n",
    "    '''Funksjonen får inn et heltall tall,\n",
    "       returnerer antall ganger 2 er faktor i tallet'''\n",
    "    antall = 0\n",
    "    while tall % 2 == 0:  # er 2 faktor i tallet?\n",
    "        tall = tall // 2\n",
    "        antall += 1\n",
    "    return antall\n",
    "\n",
    "print(antall_ganger_2(13))\n",
    "print(antall_ganger_2(24))"
   ]
  },
  {
   "cell_type": "markdown",
   "id": "9d4e2a3b",
   "metadata": {},
   "source": [
    "Som vi ser, \n",
    "- 13 inn gir 0 som returverdi, siden 13 er et primtall hvor 2 overhodet ikke inngår som faktor\n",
    "    - her kjører løkka null ganger, fordi betingelsen 13 % 2 == 0 er False\n",
    "- 24 inn gir 3 som returverdi, fordi 24 er 2 * 2 * 2 * 3, dvs 2 inngår som faktor 3 ganger\n",
    "    - her starter vi med betingelsen 24 % 2 == 0, som er True, løkka kjører i gang\n",
    "    \n",
    "Detaljene i hva som skjer underveis, kan vi igjen se f.eks. ved å printe variablene underveis i løkka (NB: Slik printing er generelt dumt hvis koden skulle brukes til noe nyttig, f.eks. i et program hvor vi trengte å finne hvor mange ganger faktoren 2 inngikk i diverse tall, men brukes her til illustrasjonsformål)"
   ]
  },
  {
   "cell_type": "code",
   "execution_count": null,
   "id": "2e53d699",
   "metadata": {},
   "outputs": [],
   "source": [
    "def antall_ganger_2(tall):\n",
    "    '''Funksjonen får inn et heltall tall,\n",
    "       returnerer antall ganger 2 er faktor i tallet'''\n",
    "    antall = 0\n",
    "    while tall % 2 == 0:  # er 2 faktor i tallet?\n",
    "        print(tall, antall) # inkludert for illustrasjon av virkemåte\n",
    "        tall = tall // 2\n",
    "        antall += 1\n",
    "        print(tall, antall) # inkludert for illustrasjon av virkemåte\n",
    "    return antall\n",
    "\n",
    "print(antall_ganger_2(24))"
   ]
  },
  {
   "cell_type": "markdown",
   "id": "c3ca802d",
   "metadata": {},
   "source": [
    "De seks første linjene av output over er printing underveis i løkka. Vi ser at\n",
    "- vi starter med tall 24 og antall 0\n",
    "- deretter blir tall 12 (fordi vi delte på 2) og antall 1 (økte med 1)\n",
    "- deretter blir tall 6 (delte på 2) og antall 2 (økte med 1)\n",
    "- til sist blir tall 3 (delte på 2) og antall 3 (økte med 1)\n",
    "\n",
    "Da blir betingelsen 3 % 2 == 0, som er False, løkka avslutter, og vi utfører return\n",
    "- siste linje i output er printen som gjøres helt nederst i koden"
   ]
  },
  {
   "cell_type": "markdown",
   "id": "eceb284d",
   "metadata": {},
   "source": [
    "## While-løkke med brukerinput\n",
    "While-løkke kan blant annet brukes når vi skal ta imot en masse input fra brukeren, og skal fortsette inntil brukeren sier at vi skal stoppe. Kodecella under viser et banalt eksempel hvor datamaskinen fortsetter å mase om hvem som er vakrest inntil brukeren svarer __du__"
   ]
  },
  {
   "cell_type": "code",
   "execution_count": null,
   "id": "27d76a15",
   "metadata": {},
   "outputs": [],
   "source": [
    "svar = ''\n",
    "while svar != 'du':\n",
    "    svar = input('''Lille bruker på tastaturet der, \n",
    "    hvem er vakreste datamaskin i verden her? ''')\n",
    "print('Takk, der svarte du riktig! Du er ikke så verst du heller!')"
   ]
  },
  {
   "cell_type": "markdown",
   "id": "fdb23b79",
   "metadata": {},
   "source": [
    "Det ovenstående eksemplet er ikke spesielt nyttig. Men samme teknikk kan brukes f.eks. hvis man ber brukeren om noe input og den må fylle visse betingelser for å være ok. F.eks. at input må gis som et tall. Da kan vi spørre, ta det inn som tekst, sjekke om teksten inneholder et tall, og hvis ikke, spørre på nytt, osv...\n",
    "\n",
    "Et annet eksempel i retning av noe nyttig er at vi spør brukeren om en serie med data som vi skal gjøre en beregning på - i nedenstående eksempel en enkel summering. Vi vet ikke på forhånd hvor mange data brukeren ønsker å gi inn, så tegnet for å stoppe er at det gis en negativ verdi, da skal vi returnere summen av tallene (unntatt det negative som gis inn til slutt)"
   ]
  },
  {
   "cell_type": "code",
   "execution_count": null,
   "id": "2ca09b64",
   "metadata": {},
   "outputs": [],
   "source": [
    "def sum_nedbor():\n",
    "    '''Funksjonen tar inn ett og ett tall som brukerinput fra tastatur.\n",
    "       Så lenge tall er >= 0 summeres tall og man ber om nytt tall\n",
    "       Når negativt tall gis, avslutter funksjonen\n",
    "       Returnerer sum av tall (unntatt det negative til slutt)'''\n",
    "    total = 0.0\n",
    "    tall = float(input('Oppgi nedbør (negativt tall for å avslutte): '))\n",
    "    while tall >= 0:\n",
    "        total += tall\n",
    "        tall = float(input('Oppgi nedbør (negativt tall for å avslutte): '))\n",
    "    return total\n",
    "\n",
    "print(f'Total nedbør: {sum_nedbor()}')"
   ]
  },
  {
   "cell_type": "markdown",
   "id": "57fce6fe",
   "metadata": {},
   "source": [
    "Prøv deg gjerne med å kjøre koden over et par ganger. \n",
    "\n",
    "Du vil se at hvis du skriver inn et negativt tall allerede på første forsøk, blir ikke løkka kjørt i det hele tatt, og funksjonen returnerer bare 0.0.\n",
    "\n",
    "Hvis du skriver positive tall, fortsetter løkka runde for runde, inntil det kommer et negativt tall. Det negative tallet kommer ikke med i summen fordi tallet blir spurt om inni løkka __etter__ summeringen (+=), det neste som skal skje er da at betingelsen skal sjekkes på nytt. Nå er den False og dermed skjer det ikke en til summering."
   ]
  },
  {
   "cell_type": "markdown",
   "id": "b6a32436",
   "metadata": {},
   "source": [
    "På samme måte som for if-setninger kan betingelsene bak while også være sammensatt av flere ledd, adskilt med __and__, __or__, __not__. Se tilbake på notebook om if-setning for forklaring av dette."
   ]
  },
  {
   "cell_type": "code",
   "execution_count": null,
   "id": "7db36a8e",
   "metadata": {},
   "outputs": [],
   "source": []
  }
 ],
 "metadata": {
  "kernelspec": {
   "display_name": "Python 3 (ipykernel)",
   "language": "python",
   "name": "python3"
  },
  "language_info": {
   "codemirror_mode": {
    "name": "ipython",
    "version": 3
   },
   "file_extension": ".py",
   "mimetype": "text/x-python",
   "name": "python",
   "nbconvert_exporter": "python",
   "pygments_lexer": "ipython3",
   "version": "3.9.7"
  }
 },
 "nbformat": 4,
 "nbformat_minor": 5
}
