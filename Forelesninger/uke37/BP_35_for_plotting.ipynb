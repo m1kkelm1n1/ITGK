{
 "cells": [
  {
   "cell_type": "markdown",
   "id": "5b19049a",
   "metadata": {},
   "source": [
    "# Bruk av for-løkker for å finne funksjonsverdier for plotting\n",
    "Ved plotting av vanlige matematiske funksjoner trenger vi ikke løkker.\n",
    "\n",
    "Vi kan bruke numpy arrays for x-verdiene og da kjøre hele arrayet gjennom funksjonen i en operasjon, jfr. eksempel under:"
   ]
  },
  {
   "cell_type": "code",
   "execution_count": 5,
   "id": "03a34ef1",
   "metadata": {},
   "outputs": [
    {
     "data": {
      "image/png": "[encoded data removed]",
      "text/plain": [
       "<Figure size 432x288 with 1 Axes>"
      ]
     },
     "metadata": {
      "needs_background": "light"
     },
     "output_type": "display_data"
    }
   ],
   "source": [
    "import numpy as np\n",
    "import matplotlib.pyplot as plt\n",
    "\n",
    "def f(x):\n",
    "    return x ** 2 - 3 * x - 7\n",
    "\n",
    "x = np.linspace(-2,5,100)\n",
    "y = f(x)\n",
    "\n",
    "fig, ax = plt.subplots()\n",
    "ax.plot(x, y)\n",
    "plt.show()"
   ]
  },
  {
   "cell_type": "markdown",
   "id": "8cf15ea3",
   "metadata": {},
   "source": [
    "Men ikke alle funksjoner er så enkle å ha med å gjøre. Anta at vi har en funksjon gitt som følger:\n",
    "\n",
    "$g(x) = \\left\\{ \n",
    "  \\begin{array}{ c l }\n",
    "    \\sqrt{x} & \\quad \\textrm{hvis } x \\geq 0 \\\\\n",
    "    0.25x                 & \\quad \\textrm{ellers}\n",
    "  \\end{array}\n",
    "\\right.$\n",
    "\n",
    "I Python vil denne funksjonen typisk lages med en if-setning. Vi kan prøve å bytte inn g(x) i koden vår og plotte, men..."
   ]
  },
  {
   "cell_type": "code",
   "execution_count": 6,
   "id": "fd538b84",
   "metadata": {},
   "outputs": [
    {
     "ename": "ValueError",
     "evalue": "The truth value of an array with more than one element is ambiguous. Use a.any() or a.all()",
     "output_type": "error",
     "traceback": [
      "\u001b[1;31m---------------------------------------------------------------------------\u001b[0m",
      "\u001b[1;31mValueError\u001b[0m                                Traceback (most recent call last)",
      "\u001b[1;32m~\\AppData\\Local\\Temp/ipykernel_1196/481166374.py\u001b[0m in \u001b[0;36m<module>\u001b[1;34m\u001b[0m\n\u001b[0;32m      9\u001b[0m \u001b[1;33m\u001b[0m\u001b[0m\n\u001b[0;32m     10\u001b[0m \u001b[0mx\u001b[0m \u001b[1;33m=\u001b[0m \u001b[0mnp\u001b[0m\u001b[1;33m.\u001b[0m\u001b[0mlinspace\u001b[0m\u001b[1;33m(\u001b[0m\u001b[1;33m-\u001b[0m\u001b[1;36m2\u001b[0m\u001b[1;33m,\u001b[0m\u001b[1;36m5\u001b[0m\u001b[1;33m,\u001b[0m\u001b[1;36m100\u001b[0m\u001b[1;33m)\u001b[0m\u001b[1;33m\u001b[0m\u001b[1;33m\u001b[0m\u001b[0m\n\u001b[1;32m---> 11\u001b[1;33m \u001b[0my\u001b[0m \u001b[1;33m=\u001b[0m \u001b[0mg\u001b[0m\u001b[1;33m(\u001b[0m\u001b[0mx\u001b[0m\u001b[1;33m)\u001b[0m\u001b[1;33m\u001b[0m\u001b[1;33m\u001b[0m\u001b[0m\n\u001b[0m\u001b[0;32m     12\u001b[0m \u001b[1;33m\u001b[0m\u001b[0m\n\u001b[0;32m     13\u001b[0m \u001b[0mfig\u001b[0m\u001b[1;33m,\u001b[0m \u001b[0max\u001b[0m \u001b[1;33m=\u001b[0m \u001b[0mplt\u001b[0m\u001b[1;33m.\u001b[0m\u001b[0msubplots\u001b[0m\u001b[1;33m(\u001b[0m\u001b[1;33m)\u001b[0m\u001b[1;33m\u001b[0m\u001b[1;33m\u001b[0m\u001b[0m\n",
      "\u001b[1;32m~\\AppData\\Local\\Temp/ipykernel_1196/481166374.py\u001b[0m in \u001b[0;36mg\u001b[1;34m(x)\u001b[0m\n\u001b[0;32m      3\u001b[0m \u001b[1;33m\u001b[0m\u001b[0m\n\u001b[0;32m      4\u001b[0m \u001b[1;32mdef\u001b[0m \u001b[0mg\u001b[0m\u001b[1;33m(\u001b[0m\u001b[0mx\u001b[0m\u001b[1;33m)\u001b[0m\u001b[1;33m:\u001b[0m\u001b[1;33m\u001b[0m\u001b[1;33m\u001b[0m\u001b[0m\n\u001b[1;32m----> 5\u001b[1;33m     \u001b[1;32mif\u001b[0m \u001b[0mx\u001b[0m \u001b[1;33m>=\u001b[0m \u001b[1;36m1\u001b[0m\u001b[1;33m:\u001b[0m\u001b[1;33m\u001b[0m\u001b[1;33m\u001b[0m\u001b[0m\n\u001b[0m\u001b[0;32m      6\u001b[0m         \u001b[1;32mreturn\u001b[0m \u001b[1;33m(\u001b[0m\u001b[0mx\u001b[0m\u001b[1;33m**\u001b[0m\u001b[1;36m2\u001b[0m \u001b[1;33m-\u001b[0m \u001b[0mx\u001b[0m\u001b[1;33m)\u001b[0m \u001b[1;33m/\u001b[0m \u001b[0mx\u001b[0m\u001b[1;33m\u001b[0m\u001b[1;33m\u001b[0m\u001b[0m\n\u001b[0;32m      7\u001b[0m     \u001b[1;32melse\u001b[0m\u001b[1;33m:\u001b[0m\u001b[1;33m\u001b[0m\u001b[1;33m\u001b[0m\u001b[0m\n",
      "\u001b[1;31mValueError\u001b[0m: The truth value of an array with more than one element is ambiguous. Use a.any() or a.all()"
     ]
    }
   ],
   "source": [
    "import numpy as np\n",
    "import matplotlib.pyplot as plt\n",
    "\n",
    "def g(x):\n",
    "    if x >= 0:\n",
    "        return np.sqrt(x)\n",
    "    else:\n",
    "        return 0.25 * x\n",
    "\n",
    "x = np.linspace(-2,5,100)\n",
    "y = g(x)\n",
    "\n",
    "fig, ax = plt.subplots()\n",
    "ax.plot(x, y)\n",
    "plt.show()"
   ]
  },
  {
   "cell_type": "markdown",
   "id": "158db15b",
   "metadata": {},
   "source": [
    "Som vi ser her: Vi får __ValueError__ fordi en if-test ikke lar seg utføre på et helt array.\n",
    "\n",
    "Altså: Når en funksjonsdefinisjon inneholder en if-setning, går det ikke lenger å kjøre et helt numpy-array gjennom funksjonen som én enkel operasjon.\n",
    "\n",
    "Men nå som du har lært å programmere for-løkker, kan dette redde situasjonen. \n",
    "Nedenfor har vi endret noe av koden ved å skrive ei løkke:"
   ]
  },
  {
   "cell_type": "code",
   "execution_count": 9,
   "id": "ad95db8d",
   "metadata": {},
   "outputs": [
    {
     "data": {
      "image/png": "[encoded data removed]",
      "text/plain": [
       "<Figure size 432x288 with 1 Axes>"
      ]
     },
     "metadata": {
      "needs_background": "light"
     },
     "output_type": "display_data"
    }
   ],
   "source": [
    "import numpy as np\n",
    "import matplotlib.pyplot as plt\n",
    "\n",
    "def g(x):\n",
    "    if x >= 0:\n",
    "        return np.sqrt(x)\n",
    "    else:\n",
    "        return 0.25 * x\n",
    "\n",
    "x = np.linspace(-2,5,100)   # her har vi 100 x-verdier i variabelen x\n",
    "y = np.zeros(len(x))        # lager y som et array med like mange nuller som det er verdier i x\n",
    "for i in range(len(x)):     # lar verdien i gå gjennom sekvensen 0...99, dvs. 100x, samme antall som verdier i x\n",
    "    y[i] = g(x[i])          # i hver runde av løkka regner vi ut y-verdien tilhørende x-verdien\n",
    "\n",
    "fig, ax = plt.subplots()\n",
    "ax.plot(x, y)\n",
    "plt.show()"
   ]
  },
  {
   "cell_type": "markdown",
   "id": "505e4186",
   "metadata": {},
   "source": [
    "Litt knotete med løsningen over er at for-løkka vår kun funker til å finne y-verdier akkurat for g(x)\n",
    "\n",
    "Litt mer elegant kan vi\n",
    "- lage koden som finner y-verdier som en funksjon'\n",
    "- gi inn __funksjonen__ som skal plottes, samt x-verdiene, som argumenter til denne\n",
    "\n",
    "Da blir vi i stand til å bruke samme kode til å regne y-verdier for flere ulike funksjoner som pga if-setninger eller andre utfordringer ikke muliggjør å gjøre en enkelt operasjon på hele numpy-arrayet."
   ]
  },
  {
   "cell_type": "code",
   "execution_count": 17,
   "id": "02bd81f8",
   "metadata": {},
   "outputs": [
    {
     "data": {
      "image/png": "[encoded data removed]",
      "text/plain": [
       "<Figure size 432x288 with 1 Axes>"
      ]
     },
     "metadata": {
      "needs_background": "light"
     },
     "output_type": "display_data"
    }
   ],
   "source": [
    "import numpy as np\n",
    "import matplotlib.pyplot as plt\n",
    "\n",
    "def g(x): # funksjonsdefinisjon som inneholder if-setning, kan dermed bare ta enkelttall som argument, ikke array\n",
    "    if x >= 3:\n",
    "        return np.sqrt(x-3)\n",
    "    else:\n",
    "        return 0.25 * (x-3)\n",
    "\n",
    "def v(x): # funksjonsdefinisjon som inneholder if-setning, kan dermed bare ta enkelttall som argument, ikke array\n",
    "    if int(x) % 2 == 0:\n",
    "        return x - int(x) - 0.5\n",
    "    else:\n",
    "        return 0.5 - x + int(x)\n",
    "\n",
    "def y_values(f, x):             # har funksjon f som en parameter, fleksibelt hvilken f vi regner for\n",
    "    y = np.zeros(len(x))        # lager y som et array med like mange nuller som det er verdier i x\n",
    "    for i in range(len(x)):     # lar verdien i gå gjennom sekvensen 0...99, dvs. 100 runder, samme antall som verdier i x\n",
    "        y[i] = f(x[i])          # hver runde av løkka regner vi ut den i'te y-verdien basert på i'te x-verdi\n",
    "    return y\n",
    "\n",
    "x = np.linspace(0,5,100)   # her har vi 100 x-verdier i variabelen x\n",
    "y1 = y_values(g, x)        # y1 inneholder verdiene til g(x) fordi g gis inn som argument for parameteren f\n",
    "y2 = y_values(v, x)        # y2 inneholder verdiene til v(x) fordi v gis inn som argument for parameteren f\n",
    "\n",
    "# lager og viser selve plottet\n",
    "fig, ax = plt.subplots()\n",
    "ax.plot(x, y1)\n",
    "ax.plot(x, y2)\n",
    "plt.show()"
   ]
  },
  {
   "cell_type": "code",
   "execution_count": null,
   "id": "5ffd7271",
   "metadata": {},
   "outputs": [],
   "source": []
  }
 ],
 "metadata": {
  "kernelspec": {
   "display_name": "Python 3 (ipykernel)",
   "language": "python",
   "name": "python3"
  },
  "language_info": {
   "codemirror_mode": {
    "name": "ipython",
    "version": 3
   },
   "file_extension": ".py",
   "mimetype": "text/x-python",
   "name": "python",
   "nbconvert_exporter": "python",
   "pygments_lexer": "ipython3",
   "version": "3.9.7"
  }
 },
 "nbformat": 4,
 "nbformat_minor": 5
}
