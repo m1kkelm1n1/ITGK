{
 "cells": [
  {
   "cell_type": "markdown",
   "id": "3a4b15bf",
   "metadata": {},
   "source": [
    "# while-løkker og for-løkker, eksakt forskjell i virkemåte\n",
    "Dette lille notatet viser ikke kode som løser nyttige problemer, men fokuserer kun på å få fram den eksakte forskjellen i virkemåte mellom while-løkker og for-løkker. (Viktig for alle å forstå første halvdel. Hvis du er spesielt interessert eller sikter mot en toppkarakter, bør du også forstå andre halvdel av denne noteboka)\n",
    "\n",
    "Vi starter med to kodesnutter som ser helt like ut, bare at den ene begynner med ordet _while_ og den andre med _for_."
   ]
  },
  {
   "cell_type": "code",
   "execution_count": 1,
   "id": "beff5e01",
   "metadata": {},
   "outputs": [
    {
     "ename": "NameError",
     "evalue": "name 'tall' is not defined",
     "output_type": "error",
     "traceback": [
      "\u001b[0;31m---------------------------------------------------------------------------\u001b[0m",
      "\u001b[0;31mNameError\u001b[0m                                 Traceback (most recent call last)",
      "\u001b[0;32m/var/folders/dp/ms1zxmgn7c9dm4s2v4zhhl140000gn/T/ipykernel_26929/2767416603.py\u001b[0m in \u001b[0;36m<module>\u001b[0;34m\u001b[0m\n\u001b[0;32m----> 1\u001b[0;31m \u001b[0;32mwhile\u001b[0m \u001b[0mtall\u001b[0m \u001b[0;32min\u001b[0m \u001b[0;34m[\u001b[0m\u001b[0;36m1\u001b[0m\u001b[0;34m,\u001b[0m\u001b[0;36m2\u001b[0m\u001b[0;34m,\u001b[0m\u001b[0;36m3\u001b[0m\u001b[0;34m,\u001b[0m\u001b[0;36m4\u001b[0m\u001b[0;34m,\u001b[0m\u001b[0;36m5\u001b[0m\u001b[0;34m]\u001b[0m\u001b[0;34m:\u001b[0m\u001b[0;34m\u001b[0m\u001b[0;34m\u001b[0m\u001b[0m\n\u001b[0m\u001b[1;32m      2\u001b[0m     \u001b[0mprint\u001b[0m\u001b[0;34m(\u001b[0m\u001b[0mtall\u001b[0m\u001b[0;34m)\u001b[0m\u001b[0;34m\u001b[0m\u001b[0;34m\u001b[0m\u001b[0m\n",
      "\u001b[0;31mNameError\u001b[0m: name 'tall' is not defined"
     ]
    }
   ],
   "source": [
    "while tall in [1,2,3,4,5]:\n",
    "    print(tall)"
   ]
  },
  {
   "cell_type": "code",
   "execution_count": 2,
   "id": "1b474c62",
   "metadata": {},
   "outputs": [
    {
     "name": "stdout",
     "output_type": "stream",
     "text": [
      "1\n",
      "2\n",
      "3\n",
      "4\n",
      "5\n"
     ]
    }
   ],
   "source": [
    "for tall in [1,2,3,4,5]:\n",
    "    print(tall)"
   ]
  },
  {
   "cell_type": "markdown",
   "id": "7e1aef7d",
   "metadata": {},
   "source": [
    "Som du ser av kjøringene av de to kodecellene over:\n",
    "- while-løkka virker ikke, pga NameError (variabelen tall ikke definert)\n",
    "    - NB: såframt dette er den første kodecella du kjører\n",
    "- for-løkka virker, den printer tallene 1, 2, 3, 4, 5\n",
    "\n",
    "Altså, forskjell nr. 1:\n",
    "- for-løkka __oppretter__ variabelen som står like bak _for_\n",
    "- while-løkka oppretter __ikke__ evt. variabel bak _while_\n",
    "\n",
    "Vi prøver å fikse koden for while ved å opprette variabelen _før_ løkka, gir den verdien 1:"
   ]
  },
  {
   "cell_type": "code",
   "execution_count": null,
   "id": "7cc70fa9",
   "metadata": {},
   "outputs": [],
   "source": [
    "tall = 1\n",
    "while tall in [1,2,3,4,5]:\n",
    "    print(tall)"
   ]
  },
  {
   "cell_type": "markdown",
   "id": "1c600125",
   "metadata": {},
   "source": [
    "Nå kjører koden med while-løkka __uendelig mange ganger__\n",
    "- må trykke __STOP__-knappen (firkanten til høyre for __Run__)\n",
    "- tall blir værende 1 alle runder av løkka\n",
    "\n",
    "Altså, forskjell nr. 2:\n",
    "- for-løkka endrer \"automatisk\" verdien til løkkevariabelen\n",
    "    - med lista \\[1,2,3,4,5\\] bak \"in\" får tall suksessivt verdiene 1, 2, 3, 4, 5\n",
    "- while-løkka gjør ingen slik automatisk endring\n",
    "    - hvis vi ønsker at tall endrer verdi underveis, må det gjøres eksplisitt\n",
    "    \n",
    "Endrer dermed igjen koden for while-løkka, øker tall med 1 for hver runde"
   ]
  },
  {
   "cell_type": "code",
   "execution_count": null,
   "id": "4c2bd364",
   "metadata": {},
   "outputs": [],
   "source": [
    "tall = 1\n",
    "while tall in [1,2,3,4,5]:\n",
    "    print(tall)\n",
    "    tall += 1"
   ]
  },
  {
   "cell_type": "markdown",
   "id": "043b8518",
   "metadata": {},
   "source": [
    "Når du kjører denne, vil du se at resultatet blir det samme som for den innledende for-løkka. \n",
    "\n",
    "Hva om vi i stedet setter tall = 0 før løkka, for både while og for? (Legger dessuten til en print av at man er ferdig, så vi er sikker på å se noe resultat)"
   ]
  },
  {
   "cell_type": "code",
   "execution_count": null,
   "id": "742d0b62",
   "metadata": {},
   "outputs": [],
   "source": [
    "tall = 0\n",
    "while tall in [1,2,3,4,5]:\n",
    "    print(tall)\n",
    "    tall += 1\n",
    "print('while ferdig')"
   ]
  },
  {
   "cell_type": "code",
   "execution_count": null,
   "id": "1140b54a",
   "metadata": {},
   "outputs": [],
   "source": [
    "tall = 0\n",
    "for tall in [1,2,3,4,5]:\n",
    "    print(tall)\n",
    "print('for ferdig')"
   ]
  },
  {
   "cell_type": "markdown",
   "id": "db0f4ec4",
   "metadata": {},
   "source": [
    "Her ser vi at:\n",
    "- while-løkka kjører null ganger (printer ikke tall)\n",
    "    - tall har verdien 0, som ikke er et element i lista 1,2,3,4,5\n",
    "    - etter __while__ tolkes __i in \\[1,2,3,4,5\\]__ som en betingelse\n",
    "        - som her er False, kjøringa går da rett videre til siste linje\n",
    "- for-løkka kjører de samme fem rundene som før\n",
    "    - etter __for__ tolkes __i in \\[1,2,3,4,5\\]__ ikke som en betingelse\n",
    "    - men som en __iterasjonsordre__: la i bli 1, så 2, så 3, så 4, så 5\n",
    "\n",
    "Altså, forskjell nr. 3:\n",
    "- det som står bak __while__ er en __betingelse__\n",
    "    - for hver runde løkka skal kjøre, sjekkes om betingelsen er True\n",
    "    - hvis den er False, er løkka ferdig, og vi går videre med koden etter løkka\n",
    "- det som står bak __for__ er en __iterasjonsordre__\n",
    "    - løkka kjører like mange ganger som det er element i sekvensen bak __in__\n",
    "    - når alle element i sekvensen er unnagjort, er løkka ferdig\n",
    "    \n",
    "Samme fenomen kan vi observere om vi prøver å endre tall til noe annet inni løkka:"
   ]
  },
  {
   "cell_type": "code",
   "execution_count": null,
   "id": "4924e41e",
   "metadata": {},
   "outputs": [],
   "source": [
    "tall = 1\n",
    "while tall in [1,2,3,4,5]:\n",
    "    print(tall)\n",
    "    tall += 3\n",
    "print('while ferdig')"
   ]
  },
  {
   "cell_type": "code",
   "execution_count": null,
   "id": "b30ccd43",
   "metadata": {},
   "outputs": [],
   "source": [
    "for tall in [1,2,3,4,5]:\n",
    "    print(tall)\n",
    "    tall += 3\n",
    "print('for ferdig')"
   ]
  },
  {
   "cell_type": "markdown",
   "id": "4563e4d0",
   "metadata": {},
   "source": [
    "While-løkka kjører her bare to ganger:\n",
    "- første runde har tall start-verdien 1 som den fikk før løkka\n",
    "- neste runde har tall blitt 4\n",
    "- deretter blir tall 7, dette er ikke blant 1,2,3,4,5\n",
    "    - betingelsen er dermed False og løkka er ferdig\n",
    "\n",
    "For-løkka kjører derimot fem ganger på samme måte som før\n",
    "- at vi øker tall med 3 inni løkka, endrer ikke den bestemte mekanismen\n",
    "    - for-setninga gjør fortsatt at tall først blir 1, så 2, så 3, så 4, så 5\n",
    "- dette betyr ikke at tall+=3 er uten effekt, men har kun i koden lenger nede:"
   ]
  },
  {
   "cell_type": "code",
   "execution_count": null,
   "id": "6b1f0625",
   "metadata": {},
   "outputs": [],
   "source": [
    "for tall in [1,2,3,4,5]:\n",
    "    print(tall)\n",
    "    tall += 3\n",
    "    print(tall)\n",
    "print('for ferdig')"
   ]
  },
  {
   "cell_type": "markdown",
   "id": "2edba787",
   "metadata": {},
   "source": [
    "Med tillegg av enda en print, ser vi at verdien til tall __blir__ endret fra 1 til 4\n",
    "- men når første runde av løkka er kjørt, går for-setninga likevel videre med å ta neste verdi fra sekvensen den er blitt tildelt, altså 2\n",
    "\n",
    "Samme vil skje om vi inni løkka gir i en verdi som er helt utenfor sekvensen:"
   ]
  },
  {
   "cell_type": "code",
   "execution_count": null,
   "id": "783537aa",
   "metadata": {},
   "outputs": [],
   "source": [
    "for tall in [1,2,3,4,5]:\n",
    "    print(tall)\n",
    "    tall = 999\n",
    "    print(tall)\n",
    "print('for ferdig')"
   ]
  },
  {
   "cell_type": "markdown",
   "id": "81370b5f",
   "metadata": {},
   "source": [
    "Men hva om vi underveis i løkka prøver å endre hele den sekvensen som for-setninga skal gå igjennom?"
   ]
  },
  {
   "cell_type": "code",
   "execution_count": null,
   "id": "caa2edde",
   "metadata": {},
   "outputs": [],
   "source": [
    "L = [1,2,3,4,5]\n",
    "for tall in L:\n",
    "    print(tall)\n",
    "    L = [] # setter L lik ei helt tom liste\n",
    "print('for ferdig')"
   ]
  },
  {
   "cell_type": "markdown",
   "id": "38fb576a",
   "metadata": {},
   "source": [
    "Fortsatt printer den tallene 1, 2, 3, 4, 5. \n",
    "\n",
    "Dvs., for-løkka husker det sekvensobjektet den ble tildelt i starten\n",
    "- påvirkes ikke om variabelen deretter redefineres til å vise til et annet objekt.\n",
    "\n",
    "While-løkka vil derimot stoppe hvis vi gjør dette, fordi betingelsen blir False."
   ]
  },
  {
   "cell_type": "code",
   "execution_count": null,
   "id": "34b04433",
   "metadata": {},
   "outputs": [],
   "source": [
    "tall = 1\n",
    "L = [1,2,3,4,5]\n",
    "while tall in L:\n",
    "    print(tall)\n",
    "    L = [] # setter L lik ei helt tom liste\n",
    "print('while ferdig')"
   ]
  },
  {
   "cell_type": "markdown",
   "id": "d430851d",
   "metadata": {},
   "source": [
    "Det som imidlertid vil kunne påvirke for-løkka underveis, er hvis vi gjør en muterende endring av sekvensen, som nedenfor, hvor vi blanker det samme listeobjektet som for-løkka er tildelt, heller enn å redefinere til et nytt listeobjekt:"
   ]
  },
  {
   "cell_type": "code",
   "execution_count": null,
   "id": "887c610e",
   "metadata": {},
   "outputs": [],
   "source": [
    "L = [1,2,3,4,5]\n",
    "print(id(L))\n",
    "for tall in L:\n",
    "    print(tall)\n",
    "    L.clear() # tømmer L for innhold (endring i samme listeobjekt)\n",
    "    print(id(L))\n",
    "print('for ferdig')"
   ]
  },
  {
   "cell_type": "markdown",
   "id": "29cf9e12",
   "metadata": {},
   "source": [
    "Her stopper for-løkka etter bare en runde fordi listeobjektet som løkka skulle iterere plutselig er tomt for elementer. Som vi kan se, gir de to print(id(L))-setningene begge den samme minneadressa, dvs. L viser fortsatt til samme objekt i minnet. Dette i motsetning til når vi endrer L til ei tom liste med ei ny tilordning, hvor vi ser at det blir ulike minneadresser. For-løkka vil huske sekvensobjektet som ligger på den minneadressa som gjaldt da løkka starta."
   ]
  },
  {
   "cell_type": "code",
   "execution_count": null,
   "id": "bd4c94b2",
   "metadata": {},
   "outputs": [],
   "source": [
    "L = [1,2,3,4,5]\n",
    "print(id(L))\n",
    "L = [ ]\n",
    "print(id(L))"
   ]
  },
  {
   "cell_type": "markdown",
   "id": "a18bbb6a",
   "metadata": {},
   "source": [
    "## Oppsummering\n",
    "Viktige forskjeller på for- og while-løkka\n",
    "- opprettelse av løkkevariabel\n",
    "    - for-setninga oppretter løkkevariabelen (som står rett bak ordet for)\n",
    "    - while-setninga oppretter ikke noen variabel\n",
    "        - en eventuell tellevariabel i while-løkke må dermed få verdi før løkka\n",
    "- oppdatering av løkkevariabel \n",
    "    - for-setninga oppdaterer automatisk løkkevariabelen runde for runde\n",
    "        - får neste verdi i sekvensen som er gitt bak ordet __in__\n",
    "    - while-setninga gjør ikke dette, variabel må endres med eksplisitt kodelinje\n",
    "- avgjørelse om å kjøre en runde til eller ikke?\n",
    "    - det som står bak while er en __betingelse__\n",
    "        - løkka kjører en runde til hvis betingelsen er True, er ferdig hvis False\n",
    "    - det som står bak for er en __iterasjonsordre__\n",
    "        - løkka kjører en runde til hvis ikke alle element i sekvensen er unnagjort\n",
    "        - løkka stopper hvis alle element er tatt, eller hvis sekvensen er tom\n",
    "        \n",
    "Av dette følger at:\n",
    "- for-løkke er vanligvis enklere enn while-løkke hvis\n",
    "    - vi har noe som skal repeteres et fast eller kjent antall ganger\n",
    "    - og spesielt hvis det vi ønsker er å gå gjennom alle elementene i en sekvens\n",
    "- while-løkke kan være mer hensiktsmessig hvis noe skal repeteres\n",
    "    - et ukjent antall ganger\n",
    "    - hvor plutselige endringer i betingelser gjør at vi skal stoppe\n",
    "    \n",
    "I eksemplet over, med å telle fra 1 til 5, vil typisk for-løkke være enklest"
   ]
  },
  {
   "cell_type": "markdown",
   "id": "b747c4bb",
   "metadata": {},
   "source": [
    "__PS.__ Hvis vi ønsker ei while-løkke som skal gå gjennom tallene 1,2,3,4,5 er ikke eksemplet over med \"in\" den mest vanlige måten å skrive det på (men ble valgt her for å ha minst mulig forskjell til for-løkka)\n",
    "\n",
    "Betingelsen __i in \\[1,2,3,4,5\\]__ spør: er i ett av tallene 1, 2, 3, 4 eller 5\n",
    "    - hvis ja er betingelsen True, ellers False\n",
    "    \n",
    "En mer vanlig skrivemåte for ei while-løkke som teller til 5, vil være:"
   ]
  },
  {
   "cell_type": "code",
   "execution_count": null,
   "id": "12820afa",
   "metadata": {},
   "outputs": [],
   "source": [
    "tall = 1\n",
    "while tall <= 5:\n",
    "    print(tall)\n",
    "    tall += 1"
   ]
  }
 ],
 "metadata": {
  "kernelspec": {
   "display_name": "Python 3 (ipykernel)",
   "language": "python",
   "name": "python3"
  },
  "language_info": {
   "codemirror_mode": {
    "name": "ipython",
    "version": 3
   },
   "file_extension": ".py",
   "mimetype": "text/x-python",
   "name": "python",
   "nbconvert_exporter": "python",
   "pygments_lexer": "ipython3",
   "version": "3.9.7"
  }
 },
 "nbformat": 4,
 "nbformat_minor": 5
}
