{
 "cells": [
  {
   "cell_type": "markdown",
   "id": "3665c28f",
   "metadata": {},
   "source": [
    "# For-løkker, sekvenser, range-objekter - intro\n",
    "(Denne noteboka viser ikke nyttige eksempler med for-løkker men fokuserer på å få fram hvordan de virker)\n",
    "\n",
    "For-løkker går gjennom sekvenser av elementer:"
   ]
  },
  {
   "cell_type": "code",
   "execution_count": 1,
   "id": "e38cfe2e",
   "metadata": {},
   "outputs": [
    {
     "name": "stdout",
     "output_type": "stream",
     "text": [
      "3\n",
      "4\n",
      "11\n",
      "7\n",
      "9\n"
     ]
    }
   ],
   "source": [
    "for tall in [3,4,11,7,9]:\n",
    "    print(tall)"
   ]
  },
  {
   "cell_type": "markdown",
   "id": "d1b3fd57",
   "metadata": {},
   "source": [
    "Som vi ser, kjørte for-løkka ovenfor 5 ganger, hvor\n",
    "- tall fikk verdi 3 (i første runde), så 4, så 11, så 7, så 9\n",
    "\n",
    "Dvs., generell syntaks er \n",
    "\n",
    "_for \\<løkkevariabel\\> in \\<sekvens\\>:_\n",
    "- _kodelinjer på innrykk_\n",
    "\n",
    "De kodelinjene som står på innrykk under for-setninga, tilhører løkka\n",
    "\n",
    "Kodelinjer som er på margen utenfor igjen, tilhører ikke løkka."
   ]
  },
  {
   "cell_type": "code",
   "execution_count": 2,
   "id": "7af371d3",
   "metadata": {},
   "outputs": [
    {
     "name": "stdout",
     "output_type": "stream",
     "text": [
      "før\n",
      "etter\n"
     ]
    }
   ],
   "source": [
    "print('før')\n",
    "for i in []:\n",
    "    print('inni')\n",
    "    print('og')\n",
    "print('etter')"
   ]
  },
  {
   "cell_type": "markdown",
   "id": "a20a99cd",
   "metadata": {},
   "source": [
    "Med en helt tom sekvens (f.eks. tom liste, som over) kjøres ikke løkka i det hele tatt.\n",
    "\n",
    "Her printet vi før, etter fordi de kommer foran og bak løkka\n",
    "- mens inni, og ble ikke printet fordi de var inni løkka\n",
    "\n",
    "I koden nedenfor blir \"og\" også printet fordi den er rykket ut på forrige marg:"
   ]
  },
  {
   "cell_type": "code",
   "execution_count": 3,
   "id": "33075513",
   "metadata": {},
   "outputs": [
    {
     "name": "stdout",
     "output_type": "stream",
     "text": [
      "før\n",
      "og\n",
      "etter\n"
     ]
    }
   ],
   "source": [
    "print('før')\n",
    "for i in []:\n",
    "    print('inni')\n",
    "print('og')\n",
    "print('etter')"
   ]
  },
  {
   "cell_type": "markdown",
   "id": "229924b9",
   "metadata": {},
   "source": [
    "Med ei liste på ett element, kjøres løkka en gang (ordet inni kommer en gang): "
   ]
  },
  {
   "cell_type": "code",
   "execution_count": 4,
   "id": "24e5fa0d",
   "metadata": {},
   "outputs": [
    {
     "name": "stdout",
     "output_type": "stream",
     "text": [
      "før\n",
      "inni\n",
      "og\n",
      "etter\n"
     ]
    }
   ],
   "source": [
    "print('før')\n",
    "for i in [3]:\n",
    "    print('inni')\n",
    "print('og')\n",
    "print('etter')"
   ]
  },
  {
   "cell_type": "markdown",
   "id": "e054ca79",
   "metadata": {},
   "source": [
    "Med to element, blir det to ganger (osv.)"
   ]
  },
  {
   "cell_type": "code",
   "execution_count": 5,
   "id": "02d2e6d6",
   "metadata": {},
   "outputs": [
    {
     "name": "stdout",
     "output_type": "stream",
     "text": [
      "før\n",
      "inni\n",
      "inni\n",
      "og\n",
      "etter\n"
     ]
    }
   ],
   "source": [
    "print('før')\n",
    "for i in [3, 3]:\n",
    "    print('inni')\n",
    "print('og')\n",
    "print('etter')"
   ]
  },
  {
   "cell_type": "markdown",
   "id": "c7f3078c",
   "metadata": {},
   "source": [
    "For å vise på en effektiv måte hvordan for-løkke virker med ulike slags sekvenser, lager vi nå en liten funksjon som returnerer en streng. Strengen begynner alltid med * (legges inn før løkka) og slutter alltid med + (legges til etter løkka), men alt som kommer mellom disse to symbolene forårsakes av koden i løkka:"
   ]
  },
  {
   "cell_type": "code",
   "execution_count": 13,
   "id": "316ad165",
   "metadata": {},
   "outputs": [
    {
     "name": "stdout",
     "output_type": "stream",
     "text": [
      "*4 ; 5 ; 2 ; +\n",
      "*3.2 ; 3.4 ; 2.1 ; +\n"
     ]
    }
   ],
   "source": [
    "import numpy as np\n",
    "\n",
    "def lag_streng(sekvens):\n",
    "    streng = '*'\n",
    "    for element in sekvens:\n",
    "        streng += str(element)\n",
    "        streng += ' ; '\n",
    "    streng += '+'\n",
    "    return streng\n",
    "\n",
    "print(lag_streng([4,5,2]))\n",
    "print(lag_streng(np.array([3.2, 3.4, 2.1])))"
   ]
  },
  {
   "cell_type": "markdown",
   "id": "24bf376b",
   "metadata": {},
   "source": [
    "Antall semikolon i strengen viser hvor mange ganger løkka har kjørt. \n",
    "\n",
    "I tilfellet over 3 ganger:\n",
    "- fordi sekvensen som ble brukt i første kjøring var ei liste med 3 element\n",
    "- og tilsvarende i andre kjøring, et numpy-array med tre element"
   ]
  },
  {
   "cell_type": "code",
   "execution_count": 11,
   "id": "dcba2c58",
   "metadata": {},
   "outputs": [
    {
     "name": "stdout",
     "output_type": "stream",
     "text": [
      "*+\n"
     ]
    }
   ],
   "source": [
    "print(lag_streng(np.array([])))"
   ]
  },
  {
   "cell_type": "markdown",
   "id": "cce2cac4",
   "metadata": {},
   "source": [
    "Som vi ser over: et helt tomt array gjør at løkka ikke kjører i det hele tatt. (samme ville vært tilfelle for ei tom liste)\n",
    "\n",
    "Strenger er også sekvenser, og kan utmerket godt gis inn til for-løkker:"
   ]
  },
  {
   "cell_type": "code",
   "execution_count": 14,
   "id": "66cad64f",
   "metadata": {},
   "outputs": [
    {
     "name": "stdout",
     "output_type": "stream",
     "text": [
      "*I ; T ; G ; K ; +\n",
      "*P ; y ; t ; h ; o ; n ; +\n",
      "*+\n"
     ]
    }
   ],
   "source": [
    "print(lag_streng('ITGK'))\n",
    "print(lag_streng('Python'))\n",
    "print(lag_streng(''))"
   ]
  },
  {
   "cell_type": "markdown",
   "id": "9c3443bc",
   "metadata": {},
   "source": [
    "Her ser vi på tilsvarende måte at\n",
    "- en helt tom streng vil gjøre at løkka ikke kjører i det hele tatt. \n",
    "\n",
    "Hvis strengen har et innhold, får løkkevariabelen\n",
    "- først verdi som det fremste tegnet, \n",
    "- så verdi som det neste tegnet, osv., \n",
    "- inntil alle tegnene er tatt."
   ]
  },
  {
   "cell_type": "markdown",
   "id": "c25530b2",
   "metadata": {},
   "source": [
    "## range-objekter\n",
    "Noen ganger trenger vi enten\n",
    "- bare å kjøre ei løkke et visst antall ganger\n",
    "    - uten at det er knyttet til verdier i f.eks. ei liste eller et array\n",
    "- eller å kjøre løkka gjennom en regulær tallsekvens\n",
    "\n",
    "Da er det gjerne enklere å bruke range-objekter enn å sette opp lister med tallene.\n",
    "\n",
    "Et range-objekt kan opprettes ved å kalle funksjonen __range( )__ fra Pythons standardbibliotek. \n",
    "\n",
    "Gjentar funksjonen vår og viser hva den gjør med et par range-objekter som sekvens:"
   ]
  },
  {
   "cell_type": "code",
   "execution_count": 15,
   "id": "e236203c",
   "metadata": {},
   "outputs": [
    {
     "name": "stdout",
     "output_type": "stream",
     "text": [
      "*0 ; 1 ; 2 ; 3 ; 4 ; +\n",
      "*2 ; 3 ; 4 ; 5 ; +\n",
      "*1 ; 4 ; 7 ; +\n",
      "*20 ; 16 ; 12 ; 8 ; 4 ; 0 ; +\n"
     ]
    }
   ],
   "source": [
    "def lag_streng(sekvens):\n",
    "    streng = '*'\n",
    "    for element in sekvens:\n",
    "        streng += str(element)\n",
    "        streng += ' ; '\n",
    "    streng += '+'\n",
    "    return streng\n",
    "\n",
    "print(lag_streng(range(5)))\n",
    "print(lag_streng(range(2,6)))\n",
    "print(lag_streng(range(1,10,3)))\n",
    "print(lag_streng(range(20,-1,-4)))"
   ]
  },
  {
   "cell_type": "markdown",
   "id": "63d1af20",
   "metadata": {},
   "source": [
    "Som vi ser av kjøring av cella over:\n",
    "- range(5) gjør at løkka kjører 5 ganger, med tallsekvensen 0,1,2,3,4\n",
    "    - dvs., når range gis kun ett argument, er dette tallet _til_-verdi\n",
    "        - som __ikke__ er \"til og med\", siden tallet 5 ikke er med i sekvensen\n",
    "    - default startverdi for range( ) er 0\n",
    "    - default stegverdi er 1, dvs. for hvert tall i sekvensen øker verdien med 1\n",
    "- range(2,6) gir sekvensen 2, 3, 4, 5\n",
    "    - med to argument blir første startverdi, andre blir til-verdi\n",
    "    - stegverdi er fortsatt default, +1\n",
    "- hvis vi ønsker en annen stegverdi enn +1, må vi gi inn et tredje argument til range()\n",
    "    - range(1, 10, 3) gir dermed sekvensen 1, 4, 7\n",
    "        - og fremdeles ikke 10, siden til-verdi ikke er med\n",
    "    - range(20, -1, -4) viser at vi også kan telle baklengs: 20, 16, 12, 8, 4, 0\n",
    "        - her blir stegverdi -4, dvs. trekker fra 4 for hver runde\n",
    "        - siste tall i sekvensen blir 0, siden til-verdi var satt til -1 som er mindre enn 0\n",
    "    "
   ]
  },
  {
   "cell_type": "markdown",
   "id": "c147ee49",
   "metadata": {},
   "source": [
    "Et lite eksempel på en funksjon som bruker range() bare til å bestemme antall ganger ei løkke skal kjøre:"
   ]
  },
  {
   "cell_type": "code",
   "execution_count": 16,
   "id": "a1365e84",
   "metadata": {},
   "outputs": [
    {
     "name": "stdout",
     "output_type": "stream",
     "text": [
      "\n",
      "hahahaha\n"
     ]
    }
   ],
   "source": [
    "def stabil_latter(antall):\n",
    "    streng = ''\n",
    "    for i in range(antall):\n",
    "        streng += 'ha'\n",
    "    return streng\n",
    "\n",
    "print(stabil_latter(0))\n",
    "print(stabil_latter(4))"
   ]
  },
  {
   "cell_type": "markdown",
   "id": "7c6ccede",
   "metadata": {},
   "source": [
    "Som vi ser, med 0 satt inn for antall, blir ikke løkka kjørt i det hele tatt, og vi printer bare ei tom linje. Med 4 satt inn for antall får vi 4x 'ha'. I dette eksemplet brukes løkkevariabelen kun til å styre antall ganger løkka skal kjøre, tallene i sekvensen 0,1,2,3 brukes ikke til noe mer inni løkka. Funksjonen kunne ha vært laget enklere uten løkke, bare ved"
   ]
  },
  {
   "cell_type": "code",
   "execution_count": 19,
   "id": "176eb162",
   "metadata": {},
   "outputs": [
    {
     "name": "stdout",
     "output_type": "stream",
     "text": [
      "hahahaha\n"
     ]
    }
   ],
   "source": [
    "def stabil_latter(antall):\n",
    "    return 'ha' * antall\n",
    "\n",
    "print(stabil_latter(4))"
   ]
  },
  {
   "cell_type": "markdown",
   "id": "62677218",
   "metadata": {},
   "source": [
    "I det neste eksemplet bruker vi imidlertid verdien til __i__ fra range-sekvensen også til beregninger inni løkka, da er det vanskelig å få til samme funksjon uten løkke:"
   ]
  },
  {
   "cell_type": "code",
   "execution_count": 23,
   "id": "e1233897",
   "metadata": {},
   "outputs": [
    {
     "name": "stdout",
     "output_type": "stream",
     "text": [
      "hahaahaaahaaaa\n"
     ]
    }
   ],
   "source": [
    "def stigende_latter(antall):\n",
    "    streng = ''\n",
    "    for i in range(antall):\n",
    "        streng += 'h' + 'a' * (i+1)\n",
    "    return streng\n",
    "\n",
    "print(stigende_latter(4))"
   ]
  },
  {
   "cell_type": "markdown",
   "id": "26eeda41",
   "metadata": {},
   "source": [
    "## numpy.arange( ), numpy.linspace( ), numpy.zeros( ), numpy.ones( )"
   ]
  },
  {
   "cell_type": "markdown",
   "id": "69e1a3ff",
   "metadata": {},
   "source": [
    "Hvis vi gjør beregninger i numpy, er det ofte hensiktsmessig å få til tallsekvenser som numpy-arrays heller enn range-objekter. Blant annet kan følgende funksjoner være av interesse:\n",
    "\n",
    "- numpy.arange() virker på samme måte som range()\n",
    "    - argumenter inn er startverdi, sluttverdi, stegverdi\n",
    "    - med default 0 for start, 1 for steg akkurat som range()\n",
    "    - i motsetning til range, __kan__ vi også ha flyttall som stegverdier\n",
    "    \n",
    "Eksemplet under lager et array med verdier fra og med 1, til (men ikke med) 5, med stegverdi 0.2"
   ]
  },
  {
   "cell_type": "code",
   "execution_count": 24,
   "id": "b895d728",
   "metadata": {},
   "outputs": [
    {
     "data": {
      "text/plain": [
       "array([1. , 1.2, 1.4, 1.6, 1.8, 2. , 2.2, 2.4, 2.6, 2.8, 3. , 3.2, 3.4,\n",
       "       3.6, 3.8, 4. , 4.2, 4.4, 4.6, 4.8])"
      ]
     },
     "execution_count": 24,
     "metadata": {},
     "output_type": "execute_result"
    }
   ],
   "source": [
    "import numpy as np\n",
    "np.arange(1, 5, 0.2)"
   ]
  },
  {
   "cell_type": "markdown",
   "id": "5fa601c0",
   "metadata": {},
   "source": [
    "I tilfeller med stegverdier som ikke er hele tall, kan det ofte være vel så hensiktsmessig å bruke funksjonen numpy.linspace(). Den gir\n",
    "- verdier fra og med en startverdi\n",
    "- til og med en sluttverdi\n",
    "- med totalt antall verdier i sekvensen som tredje argument\n",
    "\n",
    "Eksemplet under gir den samme sekvensen som vi lagde med arange over:"
   ]
  },
  {
   "cell_type": "code",
   "execution_count": 28,
   "id": "b9f7ddba",
   "metadata": {},
   "outputs": [
    {
     "data": {
      "text/plain": [
       "array([1. , 1.2, 1.4, 1.6, 1.8, 2. , 2.2, 2.4, 2.6, 2.8, 3. , 3.2, 3.4,\n",
       "       3.6, 3.8, 4. , 4.2, 4.4, 4.6, 4.8])"
      ]
     },
     "execution_count": 28,
     "metadata": {},
     "output_type": "execute_result"
    }
   ],
   "source": [
    "import numpy as np\n",
    "np.linspace(1, 4.8, 20)"
   ]
  },
  {
   "cell_type": "markdown",
   "id": "3490cc84",
   "metadata": {},
   "source": [
    "Av og til kan vi ønske et helt array med bare nuller, eller bare enere, f.eks. som startverdier som vi senere skal oppdatere underveis i ei løkke. Dette kan oppnås med funksjonene numpy.zeros() og numpy.ones(). Eksempelkallene under gir ett array med 10 nuller, og ett array med 5 enere."
   ]
  },
  {
   "cell_type": "code",
   "execution_count": 30,
   "id": "94b58afc",
   "metadata": {},
   "outputs": [
    {
     "data": {
      "text/plain": [
       "(array([0., 0., 0., 0., 0., 0., 0., 0., 0., 0.]), array([1., 1., 1., 1., 1.]))"
      ]
     },
     "execution_count": 30,
     "metadata": {},
     "output_type": "execute_result"
    }
   ],
   "source": [
    "import numpy as np\n",
    "np.zeros(10), np.ones(5)"
   ]
  },
  {
   "cell_type": "code",
   "execution_count": null,
   "id": "3d0e189c",
   "metadata": {},
   "outputs": [],
   "source": []
  }
 ],
 "metadata": {
  "kernelspec": {
   "display_name": "Python 3 (ipykernel)",
   "language": "python",
   "name": "python3"
  },
  "language_info": {
   "codemirror_mode": {
    "name": "ipython",
    "version": 3
   },
   "file_extension": ".py",
   "mimetype": "text/x-python",
   "name": "python",
   "nbconvert_exporter": "python",
   "pygments_lexer": "ipython3",
   "version": "3.9.7"
  }
 },
 "nbformat": 4,
 "nbformat_minor": 5
}
