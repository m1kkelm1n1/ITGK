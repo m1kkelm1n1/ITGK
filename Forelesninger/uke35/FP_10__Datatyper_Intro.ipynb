{
 "cells": [
  {
   "cell_type": "code",
   "execution_count": 1,
   "id": "84ba8e3c",
   "metadata": {
    "slideshow": {
     "slide_type": "skip"
    }
   },
   "outputs": [
    {
     "data": {
      "text/html": [
       "<style>\n",
       "table {align:left;display:block}\n",
       "</style>\n"
      ],
      "text/plain": [
       "<IPython.core.display.HTML object>"
      ]
     },
     "metadata": {},
     "output_type": "display_data"
    }
   ],
   "source": [
    "%%html\n",
    "<style>\n",
    "table {align:left;display:block}\n",
    "</style>"
   ]
  },
  {
   "cell_type": "markdown",
   "id": "68b85a23",
   "metadata": {
    "slideshow": {
     "slide_type": "slide"
    }
   },
   "source": [
    "# Datatyper i Python: Intro\n",
    "\n",
    "Disposisjon:\n",
    "- fire elementære typer i Python\n",
    "    - int, float, bool, string\n",
    "- opprette variable med ulike typer\n",
    "- sjekke hvilken type en variabel har\n",
    "- typens betydning for resultat av operasjoner\n",
    "- konvertering mellom typer"
   ]
  },
  {
   "cell_type": "markdown",
   "id": "22f83259",
   "metadata": {
    "slideshow": {
     "slide_type": "slide"
    }
   },
   "source": [
    "## Fire elementære datatyper i Python\n",
    "- int  - Heltall\n",
    "- float - Flyttall (m desimaler)\n",
    "- bool - Boolske verdier (sannhetsverdier)\n",
    "- string - Tekststrenger\n",
    "\n",
    "Hver variabel inneholder én verdi"
   ]
  },
  {
   "cell_type": "markdown",
   "id": "4473c917",
   "metadata": {
    "slideshow": {
     "slide_type": "slide"
    }
   },
   "source": [
    "## Heltall (int)\n",
    "Brukes til hele tall. Fordeler vs. desimaltall:\n",
    "- ingen avrundingsfeil\n",
    "- kan ha vilkårlig store tall (i Python)"
   ]
  },
  {
   "cell_type": "code",
   "execution_count": null,
   "id": "52d94994",
   "metadata": {
    "slideshow": {
     "slide_type": "slide"
    }
   },
   "outputs": [],
   "source": [
    "antall = 15\n",
    "straffepoeng = -3\n",
    "komb_rubik = 43252003274489856000\n",
    "a = komb_rubik ** 15\n",
    "print(a)"
   ]
  },
  {
   "cell_type": "markdown",
   "id": "6f83b74e",
   "metadata": {
    "slideshow": {
     "slide_type": "fragment"
    }
   },
   "source": [
    "Som du ser av kodecella over, \n",
    "- heltall kan være både positive og negative\n",
    "- vi kan ha vilkårlig store heltall\n",
    "    - komb_rubik (antall mulige kombinasjoner i Rubiks kube) er allerede et digert tall\n",
    "    - Python håndterer likevel at dette igjen opphøyes i femtende"
   ]
  },
  {
   "cell_type": "markdown",
   "id": "614f8892",
   "metadata": {
    "slideshow": {
     "slide_type": "slide"
    }
   },
   "source": [
    "## float (flyttall)\n",
    "- brukes for tall der vi trenger desimaler\n",
    "- kan ha problem med endelig presisjon, avrundingsfeil\n",
    "    - (avrundingsfeil forklares ikke her, egen episode)\n",
    "- store og små tall bruker vitenskapelig notasjon, e23 betyr \\*10\\*\\*23, e-23 \\*10\\*\\*(-23)"
   ]
  },
  {
   "cell_type": "code",
   "execution_count": null,
   "id": "7293bab1",
   "metadata": {
    "slideshow": {
     "slide_type": "fragment"
    }
   },
   "outputs": [],
   "source": [
    "radius = 2.4\n",
    "omkrets = radius * 3.14\n",
    "NA = 6.02214076e23\n",
    "kB = 1.380649e-23\n",
    "print(NA * kB)"
   ]
  },
  {
   "cell_type": "markdown",
   "id": "b57730ba",
   "metadata": {
    "slideshow": {
     "slide_type": "slide"
    }
   },
   "source": [
    "## bool (sannhetsverdier)\n",
    "- for denne typen kun to mulige verdier: __True__ og __False__\n",
    "    - NB: må skrives med stor forbokstav, ikke fnutter rundt"
   ]
  },
  {
   "cell_type": "code",
   "execution_count": null,
   "id": "c31dfc8d",
   "metadata": {
    "slideshow": {
     "slide_type": "fragment"
    }
   },
   "outputs": [],
   "source": [
    "ok = True\n",
    "funnet = False\n",
    "a = 3\n",
    "b = 4\n",
    "er_de_like = a == b \n",
    "print(er_de_like)"
   ]
  },
  {
   "cell_type": "markdown",
   "id": "632aa72a",
   "metadata": {
    "slideshow": {
     "slide_type": "slide"
    }
   },
   "source": [
    "## string (tekststrenger)\n",
    "Kan omsluttes med apostrof ('), hermetegn (\") eller triple samme (''') eller (\"\"\")\n",
    "- må være konsekvent (samme begynnelse og slutt)"
   ]
  },
  {
   "cell_type": "code",
   "execution_count": null,
   "id": "de97f1e2",
   "metadata": {
    "slideshow": {
     "slide_type": "fragment"
    }
   },
   "outputs": [],
   "source": [
    "univ = 'NTNU'\n",
    "by = \"Trondheim\"\n",
    "lang_tekst = '''Don't pretend that \"Joe\" is your brother!'''\n",
    "# enkelttegn i streng kan aksesseres med indeks\n",
    "# NB: indeks MÅ være heltall\n",
    "print(univ[0])\n",
    "print(by[1])\n",
    "print(by[-1]) # negativ indeks teller bakfra"
   ]
  },
  {
   "cell_type": "markdown",
   "id": "8723229b",
   "metadata": {
    "slideshow": {
     "slide_type": "slide"
    }
   },
   "source": [
    "Eksemplet over viste at heltall kan brukes som indeks, f.eks. til strenger\n",
    "\n",
    "Flyttall kan derimot __ikke__ brukes som indeks\n",
    "\n",
    "Som eksemplet under viser:\n",
    "- 0 og 0.0 tilfredsstiller likhetstest i Python\n",
    "- men bare heltallet funker som indeks, flyttallet gir feilmelding"
   ]
  },
  {
   "cell_type": "code",
   "execution_count": null,
   "id": "7b8e2b52",
   "metadata": {
    "slideshow": {
     "slide_type": "fragment"
    }
   },
   "outputs": [],
   "source": [
    "univ = 'NTNU'\n",
    "print(0 == 0.0)\n",
    "print(univ[0])\n",
    "print(univ[0.0])"
   ]
  },
  {
   "cell_type": "markdown",
   "id": "702866ef",
   "metadata": {
    "slideshow": {
     "slide_type": "slide"
    }
   },
   "source": [
    "## Typer - tilordning og sjekking\n",
    "Types gis implisitt i Python (\"duck typing\")\n",
    "- f.eks. ut fra type på høyre side i tilordning\n",
    "\n",
    "Type kan sjekkes med funksjonen __type( )__"
   ]
  },
  {
   "cell_type": "code",
   "execution_count": null,
   "id": "de64f5d5",
   "metadata": {
    "slideshow": {
     "slide_type": "fragment"
    }
   },
   "outputs": [],
   "source": [
    "#Dette virker kun hvis alle cellene over er kjørt...\n",
    "type(komb_rubik), type(kB), type(er_de_like), type(by)"
   ]
  },
  {
   "cell_type": "markdown",
   "id": "95747e85",
   "metadata": {
    "slideshow": {
     "slide_type": "slide"
    }
   },
   "source": [
    "## Typer og aritmetiske operatorer\n",
    "Typene til operandene avgjør\n",
    "- hvorvidt operatoren kan brukes eller ikke\n",
    "    - ulovlige kombinasjoner gir TypeError\n",
    "- hva operatoren gjør\n",
    "- hvilken type resultatet får"
   ]
  },
  {
   "cell_type": "markdown",
   "id": "1f729bbf",
   "metadata": {
    "slideshow": {
     "slide_type": "slide"
    }
   },
   "source": [
    "Hvis operander er tall (int, float) eller bool:\n",
    "- alle operatorer + - * ** / // % kan brukes\n",
    "- resultat blir float hvis minst en operand er float\n",
    "- int / int blir også float"
   ]
  },
  {
   "cell_type": "code",
   "execution_count": null,
   "id": "bcb83f46",
   "metadata": {
    "slideshow": {
     "slide_type": "slide"
    }
   },
   "outputs": [],
   "source": [
    "i1 = 15\n",
    "i2 = 5\n",
    "f2 = 5.0\n",
    "b = True\n",
    "print(i1 + i2)\n",
    "print(i1 + f2)\n",
    "print(i1 * b)\n",
    "print(i1 / i2, i1 // i2)"
   ]
  },
  {
   "cell_type": "markdown",
   "id": "e9d086b5",
   "metadata": {
    "slideshow": {
     "slide_type": "slide"
    }
   },
   "source": [
    "Strenger, kun + og * er mulig:\n",
    "- string + string\n",
    "- string * int (eller int * string)"
   ]
  },
  {
   "cell_type": "code",
   "execution_count": null,
   "id": "1548aa9a",
   "metadata": {
    "slideshow": {
     "slide_type": "fragment"
    }
   },
   "outputs": [],
   "source": [
    "s1 = '51'\n",
    "s2 = '50'\n",
    "print(s1 + s2)\n",
    "print(s1 * 3)"
   ]
  },
  {
   "cell_type": "markdown",
   "id": "9857e2c4",
   "metadata": {
    "slideshow": {
     "slide_type": "slide"
    }
   },
   "source": [
    "Over så vi at en tekststreng kan \"ganges\" med et heltall\n",
    "\n",
    "Tilsvarende med flyttall går ikke, selv ikke med .0\n",
    "- som eksemplet under viser, får vi feilmelding med 3.0\n",
    "- eksempel på at datatype avgjør om noe funker, selv med tilsynelatende like verdier"
   ]
  },
  {
   "cell_type": "code",
   "execution_count": null,
   "id": "025626e0",
   "metadata": {
    "slideshow": {
     "slide_type": "fragment"
    }
   },
   "outputs": [],
   "source": [
    "univ = 'NTNU'\n",
    "print(univ * 3)\n",
    "print(univ * 3.0)"
   ]
  },
  {
   "cell_type": "markdown",
   "id": "2072f0b0",
   "metadata": {
    "slideshow": {
     "slide_type": "slide"
    }
   },
   "source": [
    "## Oppsummering\n",
    "\n",
    "Vi har her sett på de fire elementære typene i Python\n",
    "- int (heltall)\n",
    "- float (flyttall)\n",
    "- bool (sannhetsverdier)\n",
    "- string (tekststrenger)\n",
    "\n",
    "Variable får typer ved tilordning\n",
    "- skjer implisitt i Python (må ikke deklarere type)\n",
    "- type kan sjekkes med funksjonen __type( )__"
   ]
  },
  {
   "cell_type": "markdown",
   "id": "9e02a870",
   "metadata": {
    "slideshow": {
     "slide_type": "slide"
    }
   },
   "source": [
    "Typer avgjør hva som er lovlig, f.eks.\n",
    "- indeks kan være heltall, ikke flyttall (heller ikke .0)\n",
    "- \"ganging\" av streng, går med heltall, ikke flyttall (heller ikke .0)\n",
    "\n",
    "Typer avgjør resultat av operasjon, f.eks.\n",
    "- 51 + 50 blir 101\n",
    "- '51' + '50' blir '5150'\n",
    "\n",
    "Operatorer kan ha ulikt typeresultat, f.eks.\n",
    "- 6 / 3 blir 2.0\n",
    "- 6 // 3 blir 2"
   ]
  }
 ],
 "metadata": {
  "celltoolbar": "Slideshow",
  "kernelspec": {
   "display_name": "Python 3 (ipykernel)",
   "language": "python",
   "name": "python3"
  },
  "language_info": {
   "codemirror_mode": {
    "name": "ipython",
    "version": 3
   },
   "file_extension": ".py",
   "mimetype": "text/x-python",
   "name": "python",
   "nbconvert_exporter": "python",
   "pygments_lexer": "ipython3",
   "version": "3.9.7"
  }
 },
 "nbformat": 4,
 "nbformat_minor": 5
}
