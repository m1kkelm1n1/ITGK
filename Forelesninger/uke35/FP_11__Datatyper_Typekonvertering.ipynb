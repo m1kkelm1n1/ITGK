{
 "cells": [
  {
   "cell_type": "code",
   "execution_count": null,
   "id": "84ba8e3c",
   "metadata": {
    "slideshow": {
     "slide_type": "skip"
    }
   },
   "outputs": [],
   "source": [
    "%%html\n",
    "<style>\n",
    "table {align:left;display:block}\n",
    "</style>"
   ]
  },
  {
   "cell_type": "markdown",
   "id": "feabc4fe",
   "metadata": {
    "slideshow": {
     "slide_type": "slide"
    }
   },
   "source": [
    "## Typekonvertering til int, float, bool, string\n",
    "Vanlig situasjon: Har data av en type, men...\n",
    "- ønsker data av en annen type\n",
    "\n",
    "Løsning: bruke innebygde funksjoner for typekonvertering\n",
    "- int( ), float( ), bool( ), str( )\n",
    "- returnerer tilsvarende data som gitt type\n",
    "\n",
    "Funker bare hvis gitt data lar seg konvertere til ønsket type\n",
    "- TypeError hvis typen slett ikke kan konverteres\n",
    "- ValueError hvis typen kan, men konkret verdi ikke\n"
   ]
  },
  {
   "cell_type": "code",
   "execution_count": null,
   "id": "c9a1deba",
   "metadata": {
    "slideshow": {
     "slide_type": "fragment"
    }
   },
   "outputs": [],
   "source": [
    "print(int('3'))\n",
    "print(float('3.25'))\n",
    "print(bool(3.25)) # bool() gir True for alle tall unntatt 0, 0.0\n",
    "print(bool('False')) # og True for alle tekster unntatt '' (tom)\n",
    "str(3.25), str(True)"
   ]
  },
  {
   "cell_type": "markdown",
   "id": "fbf69d2f",
   "metadata": {
    "slideshow": {
     "slide_type": "slide"
    }
   },
   "source": [
    "Eksemplene over viste ok typekonverteringer.\n",
    "\n",
    "Eksemplene under viser noen som ikke fungerer:\n",
    "- Python forstår ikke at 'fem' er et tallord\n",
    "- float('3,25') går ikke pga komma i stedet for punktum\n",
    "- int('3.25') går ikke fordi strengen har annet innhold enn et heltall, måtte brukt int(float('3.25')"
   ]
  },
  {
   "cell_type": "code",
   "execution_count": null,
   "id": "fc553392",
   "metadata": {
    "slideshow": {
     "slide_type": "fragment"
    }
   },
   "outputs": [],
   "source": [
    "# Eksempler med feil\n",
    "print(int('fem'))\n",
    "print(float('3,25'))\n",
    "print(int('3.25'))"
   ]
  },
  {
   "cell_type": "markdown",
   "id": "a290171b",
   "metadata": {
    "slideshow": {
     "slide_type": "slide"
    }
   },
   "source": [
    "## Eksempler på behov for typekonvertering\n",
    "\n",
    "__Tekst til tall__\n",
    "- input( ) returnerer tekst\n",
    "- hvis input er ment som tall må vi\n",
    "    - konvertere til tall (int eller float)\n",
    "    - iallfall hvis vi skal regne med tallene\n",
    "    \n",
    "__Tall til tekst__\n",
    "- hvis tall skal settes sammen med en streng\n",
    "    - f.eks. som ledetekst til input"
   ]
  },
  {
   "cell_type": "code",
   "execution_count": null,
   "id": "c99bf54f",
   "metadata": {
    "slideshow": {
     "slide_type": "fragment"
    }
   },
   "outputs": [],
   "source": [
    "alder = input('Hva er din alder: ')\n",
    "alder_x2 = alder * 2\n",
    "print('En som er dobbelt så gammel, vil være', alder_x2)\n",
    "svar = input('Gleder du deg til å bli ' + alder_x2 + '?')"
   ]
  },
  {
   "cell_type": "markdown",
   "id": "1665f26a",
   "metadata": {
    "slideshow": {
     "slide_type": "slide"
    }
   },
   "source": [
    "Programmet over regner feil fordi vi ikke har typekonvertert\n",
    "\n",
    "Under typekonverterer til int( ) - men kommer i trøbbel i linje 4\n",
    "- går ikke med string + int"
   ]
  },
  {
   "cell_type": "code",
   "execution_count": null,
   "id": "0cc6ef1a",
   "metadata": {
    "slideshow": {
     "slide_type": "fragment"
    }
   },
   "outputs": [],
   "source": [
    "alder = int(input('Hva er din alder: '))\n",
    "alder_x2 = alder * 2\n",
    "print('En som er dobbelt så gammel, vil være', alder_x2)\n",
    "svar = input('Gleder du deg til å bli ' + alder_x2 + '?')"
   ]
  },
  {
   "cell_type": "markdown",
   "id": "f6996ed3",
   "metadata": {
    "slideshow": {
     "slide_type": "slide"
    }
   },
   "source": [
    "Koden under viser endelig en korrekt fungerende versjon\n",
    "- bruker int( ) for å konvertere fra tekst til tall\n",
    "- deretter string( ) for å konvertere tilbake til tekst\n",
    "- setter sammen ledeteksten basert på dette"
   ]
  },
  {
   "cell_type": "code",
   "execution_count": null,
   "id": "2f696d2b",
   "metadata": {
    "slideshow": {
     "slide_type": "fragment"
    }
   },
   "outputs": [],
   "source": [
    "alder = int(input('Hva er din alder: '))\n",
    "alder_x2 = alder * 2\n",
    "print('En som er dobbelt så gammel, vil være', alder_x2)\n",
    "svar = input('Gleder du deg til å bli ' + str(alder_x2) + '?')"
   ]
  },
  {
   "cell_type": "markdown",
   "id": "9b5a38ba",
   "metadata": {
    "slideshow": {
     "slide_type": "slide"
    }
   },
   "source": [
    "## Annen løsning for konvertering til streng: f-string\n",
    "\n",
    "Ved å sette f like foran startfnutten til en streng\n",
    "- forteller vi Python at { } inni strengen inneholder variabelnavn\n",
    "- variabelens verdi blir konvertert til streng\n",
    "\n",
    "Som vi ser under gir str(tall) og f'{tall}' eksakt samme resultat, dvs.\n",
    "- i en f-streng vil en variabel i klamme implisitt bli konvertert til streng\n",
    "- og satt inn som en del av den omsluttende strengen"
   ]
  },
  {
   "cell_type": "code",
   "execution_count": null,
   "id": "922727c4",
   "metadata": {
    "slideshow": {
     "slide_type": "fragment"
    }
   },
   "outputs": [],
   "source": [
    "tall = 3.25\n",
    "str(tall), f'{tall}'"
   ]
  },
  {
   "cell_type": "markdown",
   "id": "70589704",
   "metadata": {
    "slideshow": {
     "slide_type": "slide"
    }
   },
   "source": [
    "Fordeler med f-strenger:\n",
    "- enkleste måte for å kombinere variabelt innhold med fast tekst\n",
    "- har mange slagkraftige måter for formattering utover ren konvertering til streng\n",
    "\n",
    "Funksjonen __land_info( )__ tar inn info om land og returnerer som en formattert streng:"
   ]
  },
  {
   "cell_type": "code",
   "execution_count": null,
   "id": "fc82015d",
   "metadata": {
    "slideshow": {
     "slide_type": "fragment"
    }
   },
   "outputs": [],
   "source": [
    "def land_info(navn, areal, folketall, hovedstad):\n",
    "    return f'{navn:15} {areal:9} km2 {folketall:10.2f} mill. {hovedstad:>18}'\n",
    "\n",
    "print(land_info('Norge', 323781, 5.391, 'Oslo'))\n",
    "print(land_info('Sverige', 447375, 10.729, 'Stockholm'))\n",
    "print(land_info('Canada', 9984670, 38.6547, 'Ottawa'))"
   ]
  },
  {
   "cell_type": "markdown",
   "id": "a90cf20c",
   "metadata": {
    "slideshow": {
     "slide_type": "slide"
    }
   },
   "source": [
    "Funksjonen land_info( ) illustrerer følgende med f-strenger:\n",
    "- vi kan sette kolon bak variabelnavnet, og deretter et tall for feltbredde\n",
    "    - den vil da fylle inn blanke for å nå aktuell bredde, f.eks. på raden for Norge\n",
    "        - 10 blanke etter Norge så total lengde blir 15 (tekst blir default venstrejustert)\n",
    "        - 3 blanke før 323781 så total lengde blir 10 (tall default høyrejustert)\n",
    "        - 6 blanke foran 5.39 så total lengde blir 10\n",
    "        \n",
    "For flyttall kan vi også oppgi antall desimaler, .2 angir 2 desimaler\n",
    "- det blir avrundet hvis vi har flere\n",
    "    - merk at avrundingen her kun gjelder presentasjonen av tallet i strengen\n",
    "    - selve tallet i variabelen folketall blir ikke avrundet\n",
    "- __.2f__ - bokstaven f angir at vi ønsker tallet med fast desimalpunktum\n",
    "    - .2e ville derimot presentere tallet i vitenskapelig notasjon\n",
    "    \n",
    "For hovedstad står det >18, tegnet > her indikerer at teksten skal høyrejusteres\n",
    "- < betyr tilsvarende venstrejustering (men ikke nødvendig, siden det er default for tekst)\n",
    "- ^ betyr at teksten skal midtjusteres i feltet"
   ]
  },
  {
   "cell_type": "markdown",
   "id": "1113cfe0",
   "metadata": {
    "slideshow": {
     "slide_type": "slide"
    }
   },
   "source": [
    "Det fins mye mer man kan få til med f-strenger. \n",
    "\n",
    "For en utførlig dokumentasjon, se f.eks. https://docs.python.org/3/library/string.html#formatspec\n",
    "\n",
    "F.eks. kan man få tall vist i det binære tallsystemet med :b og heksadesimalt med :x eller :X (alt etter om du vil ha bokstavene a-d små eller store)"
   ]
  },
  {
   "cell_type": "code",
   "execution_count": null,
   "id": "3601d1ff",
   "metadata": {
    "slideshow": {
     "slide_type": "fragment"
    }
   },
   "outputs": [],
   "source": [
    "f'42 binært er {42:b} og heksadesimalt er det {42:X}'"
   ]
  },
  {
   "cell_type": "markdown",
   "id": "dde2b851",
   "metadata": {
    "slideshow": {
     "slide_type": "slide"
    }
   },
   "source": [
    "## Oppsummering\n",
    "Data kan konverteres mellom ulike typer:\n",
    "- int() konverterer til int (fra f.eks. float, bool, string)\n",
    "    - ved konvertering fra string må strengen kun inneholde siffer, samt evt. negativt fortegn\n",
    "- float() konverterer til float (fra int, bool, string)\n",
    "    - ved konvertering fra string må teksten inneholde noe som tilsvarer et tall\n",
    "- bool() konverterer til sannhetsverdi; __True__ eller __False__\n",
    "    - kun tall 0, 0.0 og helt tom streng '' blir False, alt annet True\n",
    "- str() konverterer til streng\n",
    "\n",
    "Ved behov for konvertering til streng, er f-strings ofte enklere enn str()\n",
    "- skrive strengen som den skal stå, med variable i {}\n",
    "- mange formateringmuligheter"
   ]
  },
  {
   "cell_type": "code",
   "execution_count": null,
   "id": "219927ec",
   "metadata": {},
   "outputs": [],
   "source": []
  }
 ],
 "metadata": {
  "celltoolbar": "Slideshow",
  "kernelspec": {
   "display_name": "Python 3 (ipykernel)",
   "language": "python",
   "name": "python3"
  },
  "language_info": {
   "codemirror_mode": {
    "name": "ipython",
    "version": 3
   },
   "file_extension": ".py",
   "mimetype": "text/x-python",
   "name": "python",
   "nbconvert_exporter": "python",
   "pygments_lexer": "ipython3",
   "version": "3.9.7"
  }
 },
 "nbformat": 4,
 "nbformat_minor": 5
}
