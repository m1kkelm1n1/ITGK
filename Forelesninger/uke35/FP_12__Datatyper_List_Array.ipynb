{
 "cells": [
  {
   "cell_type": "code",
   "execution_count": 2,
   "id": "84ba8e3c",
   "metadata": {
    "slideshow": {
     "slide_type": "skip"
    }
   },
   "outputs": [
    {
     "data": {
      "text/html": [
       "<style>\n",
       "table {align:left;display:block}\n",
       "</style>\n"
      ],
      "text/plain": [
       "<IPython.core.display.HTML object>"
      ]
     },
     "metadata": {},
     "output_type": "display_data"
    }
   ],
   "source": [
    "%%html\n",
    "<style>\n",
    "table {align:left;display:block}\n",
    "</style>"
   ]
  },
  {
   "cell_type": "markdown",
   "id": "3eba4940",
   "metadata": {},
   "source": [
    "## Lister og numpy.array\n",
    "Lister og numpy.array kan inneholde mange elementer\n",
    "\n",
    "Likheter:\n",
    "- element adskilt med komma\n",
    "- enkeltelementer kan nås via indeks, som for strenger\n",
    "\n",
    "Forskjeller, opprettelse:\n",
    "- liste kan gis direkte med \\[ ... \\] eller med list()\n",
    "- array må bruke metoden numpy.array(), f.eks. med liste som argument"
   ]
  },
  {
   "cell_type": "code",
   "execution_count": 1,
   "id": "dc41dc49",
   "metadata": {},
   "outputs": [
    {
     "name": "stdout",
     "output_type": "stream",
     "text": [
      "Florø\n",
      "5.55\n"
     ]
    }
   ],
   "source": [
    "mine_favorittlag = ['Florø', 'Burnley', 'Palermo']\n",
    "terningkast = [1, 4, 3, 5, 4]\n",
    "import numpy as np\n",
    "priser = np.array([3.25, 5.55, 8.75])\n",
    "print(mine_favorittlag[0])\n",
    "print(priser[1])"
   ]
  },
  {
   "cell_type": "markdown",
   "id": "9043adc5",
   "metadata": {},
   "source": [
    "## Forskjell operasjoner\n",
    "\n",
    "For lister funker + og * på samme vis som for strenger:"
   ]
  },
  {
   "cell_type": "code",
   "execution_count": 2,
   "id": "df54729a",
   "metadata": {},
   "outputs": [
    {
     "name": "stdout",
     "output_type": "stream",
     "text": [
      "[1, 4, 3, 5, 4, 6, 6, 6]\n",
      "[1, 4, 3, 5, 4, 1, 4, 3, 5, 4, 1, 4, 3, 5, 4]\n"
     ]
    }
   ],
   "source": [
    "mer_terningkast = terningkast + [6, 6, 6]\n",
    "print(mer_terningkast)\n",
    "print(terningkast * 3)"
   ]
  },
  {
   "cell_type": "markdown",
   "id": "92fe393c",
   "metadata": {},
   "source": [
    "For array gjør vi derimot massivt operasjoner på alle elementene.\n",
    "\n",
    "Dermed kan alle operatorene + - * ** / // % gi mening for array."
   ]
  },
  {
   "cell_type": "code",
   "execution_count": 3,
   "id": "95d61797",
   "metadata": {},
   "outputs": [
    {
     "name": "stdout",
     "output_type": "stream",
     "text": [
      "[ 6.5 11.1 17.5]\n",
      "[0.25 0.55 0.75]\n"
     ]
    }
   ],
   "source": [
    "import numpy as np\n",
    "priser = np.array([3.25, 5.55, 8.75])\n",
    "nye_priser = priser * 2\n",
    "print(nye_priser)\n",
    "bare_desimalene = priser % 1\n",
    "print(bare_desimalene)"
   ]
  },
  {
   "cell_type": "markdown",
   "id": "b2a3d7a7",
   "metadata": {},
   "source": [
    "Vi kan også bruke operander mellom to arrays:"
   ]
  },
  {
   "cell_type": "code",
   "execution_count": null,
   "id": "129977c8",
   "metadata": {},
   "outputs": [],
   "source": [
    "print(priser - bare_desimalene)\n",
    "print(np.array([1,2,3]) * np.array([2,0,2]))"
   ]
  },
  {
   "cell_type": "markdown",
   "id": "75a9db8e",
   "metadata": {},
   "source": [
    "## Typekonvertering\n",
    "Eksempel med typekonvertering mellom liste og array:"
   ]
  },
  {
   "cell_type": "code",
   "execution_count": null,
   "id": "df53d915",
   "metadata": {},
   "outputs": [],
   "source": [
    "L = [3.2, 3.5, 9.9]\n",
    "import numpy as np\n",
    "A = np.array(L)\n",
    "A = A * 2\n",
    "L = list(A)\n",
    "print(L)"
   ]
  },
  {
   "cell_type": "markdown",
   "id": "d87b9d38",
   "metadata": {},
   "source": [
    "Eksempel typekonvertering fra streng til liste:"
   ]
  },
  {
   "cell_type": "code",
   "execution_count": null,
   "id": "a5b716b5",
   "metadata": {},
   "outputs": [],
   "source": [
    "# Typekonvertering fra tekststreng til liste\n",
    "bokstavliste = list(\"ITGK\")\n",
    "A = np.array(\"ITGK\")\n",
    "print(bokstavliste, A)\n",
    "# list() deler opp i enkelttegn, array() ikke\n",
    "type(bokstavliste), type(A)\n",
    "# som før kan type() brukes for å sjekke typen for variable"
   ]
  },
  {
   "cell_type": "markdown",
   "id": "55d4a115",
   "metadata": {},
   "source": [
    "Eksempel: liste med miks av ulike typer, både tall og tekst. Et array må derimot ha alle data av samme type, vil derfor konvertere alt til tekst."
   ]
  },
  {
   "cell_type": "code",
   "execution_count": null,
   "id": "651a0402",
   "metadata": {},
   "outputs": [],
   "source": [
    "L = [1, \"egg\", True, 9.9]\n",
    "A = np.array(L)\n",
    "print(L)\n",
    "print(A)"
   ]
  },
  {
   "cell_type": "markdown",
   "id": "583b62c1",
   "metadata": {},
   "source": [
    "## Typer for element inni array\n",
    "\n",
    "Typesjekk kan gjøres med __numpy.dtype__\n",
    "\n",
    "Konvertering med __numpy.astype()__"
   ]
  },
  {
   "cell_type": "code",
   "execution_count": null,
   "id": "de8b5402",
   "metadata": {},
   "outputs": [],
   "source": [
    "A = np.array([1.0, 2.0, 3.0, 4.0])\n",
    "B = np.array([1, 0, 3, 4, 0])\n",
    "print(A)\n",
    "print(A.dtype)\n",
    "print(B)\n",
    "print(B.dtype)\n",
    "C = B.astype(bool)\n",
    "print(C)"
   ]
  },
  {
   "cell_type": "markdown",
   "id": "1f3fcad5",
   "metadata": {},
   "source": [
    "## Oppsummering\n",
    "\n",
    "Lister \n",
    "- kan inneholde miks av flere typer data\n",
    "- kun + og \\*, virker som for strenger\n",
    "\n",
    "numpy.array\n",
    "- alle elementer av samme type\n",
    "- muliggjør massive, elementvise aritmetiske operasjoner\n",
    "- type for elementer kan sjekkes med numpy.dtype\n",
    "- type for elementer kan konverteres med numpy.astype()\n"
   ]
  },
  {
   "cell_type": "code",
   "execution_count": null,
   "id": "219927ec",
   "metadata": {},
   "outputs": [],
   "source": []
  }
 ],
 "metadata": {
  "celltoolbar": "Slideshow",
  "kernelspec": {
   "display_name": "Python 3 (ipykernel)",
   "language": "python",
   "name": "python3"
  },
  "language_info": {
   "codemirror_mode": {
    "name": "ipython",
    "version": 3
   },
   "file_extension": ".py",
   "mimetype": "text/x-python",
   "name": "python",
   "nbconvert_exporter": "python",
   "pygments_lexer": "ipython3",
   "version": "3.9.7"
  }
 },
 "nbformat": 4,
 "nbformat_minor": 5
}
