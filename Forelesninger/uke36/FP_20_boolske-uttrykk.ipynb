{
 "cells": [
  {
   "cell_type": "markdown",
   "metadata": {
    "slideshow": {
     "slide_type": "slide"
    }
   },
   "source": [
    "# Boolske verdier og uttrykk Python\n",
    "\n",
    "I Python har vi datatypen **bool**, som har kun to mulige verdier: **True** og **False**.\n",
    "\n",
    "Verdiene True og False kan vi få ved å \n",
    "- sammeligne og spørre om de er like, forskjellige, en er større enn den andre etc.\n",
    "- spørre om to ting er det samme objektet\n",
    "- Om en sammensatt datatype eller tekst, inneholder en gitt data."
   ]
  },
  {
   "cell_type": "markdown",
   "metadata": {
    "slideshow": {
     "slide_type": "slide"
    }
   },
   "source": [
    "## Sammenligningsoperatorer\n",
    "\n",
    "Sammenligningsoperatorer brukes til å sammenligne to verdier og returnerer en boolsk verdi, True eller False:\n",
    "\n",
    "# Sammenligningsoperatorer i Python\n",
    "\n",
    "| Operator | Beskrivelse                        | Eksempel       | Resultat |\n",
    "|----------|------------------------------------|----------------|----------|\n",
    "| `==`     | Sjekker om to verdier er like      | `5 == 5.0`       | `True`   |\n",
    "|          |                                    | `5 == 3`       | `False`  |\n",
    "| `!=`     | Sjekker om to verdier ikke er like | `5 != 3`       | `True`   |\n",
    "|          |                                    | `5 != 5`       | `False`  |\n",
    "| `>`      | Sjekker om venstre verdi er større enn høyre verdi | `5 > 3` | `True`   |\n",
    "|          |                                    | `3 > 5`        | `False`  |\n",
    "| `<`      | Sjekker om venstre verdi er mindre enn høyre verdi | `3 < 5` | `True`   |\n",
    "|          |                                    | `5 < 3`        | `False`  |\n",
    "| `>=`     | Sjekker om venstre verdi er større enn eller lik høyre verdi | `5 >= 5` | `True`   |\n",
    "|          |                                    | `5 >= 3`       | `True`   |\n",
    "|          |                                    | `3 >= 5`       | `False`  |\n",
    "| `<=`     | Sjekker om venstre verdi er mindre enn eller lik høyre verdi | `3 <= 5` | `True`   |\n",
    "|          |                                    | `5 <= 5`       | `True`   |\n",
    "|          |                                    | `5 <= 3`       | `False`  |\n",
    "\n",
    "\n",
    "Noen ting å merke seg:\n",
    "- En kan sammenligne et flyttall med heltall. Er de nøyaktig like i verdi, så får vi **True**\n",
    "\n",
    "\n",
    "Disse operatorene fungerer også for andre datatyper, som tekststrenger og lister, men en da må vi forstå hvordan sammenligningen fungerer.\n"
   ]
  },
  {
   "cell_type": "markdown",
   "metadata": {
    "slideshow": {
     "slide_type": "slide"
    }
   },
   "source": [
    "## Sammenligning av tekststrenger\n",
    "Hvert tegn har en tallkode, såkalte unikoder. Her er en del av kodene og tilhørende tegn:\n",
    "\n",
    "\n",
    "| Dec | Char | Dec | Char | Dec | Char | Dec | Char | Dec | Char | Dec | Char |\n",
    "|-----|------|-----|------|-----|------|-----|------|-----|------|-----|------|\n",
    "| 32  |   ␣  | 48  |   0  | 64  |   @  | 80  |   P  | 96  |   `  | 112 |   p  |\n",
    "| 33  |   !  | 49  |   1  | 65  |   A  | 81  |   Q  | 97  |   a  | 113 |   q  |\n",
    "| 34  |   \"  | 50  |   2  | 66  |   B  | 82  |   R  | 98  |   b  | 114 |   r  |\n",
    "| 35  |   #  | 51  |   3  | 67  |   C  | 83  |   S  | 99  |   c  | 115 |   s  |\n",
    "| 36  |   $  | 52  |   4  | 68  |   D  | 84  |   T  | 100 |   d  | 116 |   t  |\n",
    "| 37  |   %  | 53  |   5  | 69  |   E  | 85  |   U  | 101 |   e  | 117 |   u  |\n",
    "| 38  |   &  | 54  |   6  | 70  |   F  | 86  |   V  | 102 |   f  | 118 |   v  |\n",
    "| 39  |   '  | 55  |   7  | 71  |   G  | 87  |   W  | 103 |   g  | 119 |   w  |\n",
    "| 40  |   (  | 56  |   8  | 72  |   H  | 88  |   X  | 104 |   h  | 120 |   x  |\n",
    "| 41  |   )  | 57  |   9  | 73  |   I  | 89  |   Y  | 105 |   i  | 121 |   y  |\n",
    "| 42  |   *  | 58  |   :  | 74  |   J  | 90  |   Z  | 106 |   j  | 122 |   z  |\n",
    "| 43  |   +  | 59  |   ;  | 75  |   K  | 91  |   [  | 107 |   k  | 123 |   \\{  |\n",
    "| 44  |   ,  | 60  |   <  | 76  |   L  | 92  |   \\  | 108 |   l  | 124 |   \\|  |\n",
    "| 45  |   -  | 61  |   =  | 77  |   M  | 93  |   ]  | 109 |   m  | 125 |   \\}  |\n",
    "| 46  |   .  | 62  |   >  | 78  |   N  | 94  |   ^  | 110 |   n  | 126 |   ~  |\n",
    "| 47  |   /  | 63  |   ?  | 79  |   O  | 95  |   _  | 111 |   o  |     |      |\n",
    "\n",
    "- Andre tegn som æ, ø, å, Æ, Ø og Å, é, û har høyere tallkoder.\n",
    "- Sammenligning bruker disse tallkodene, og bruker samme algoritme som vi bruker ved **alfabetisk sortering**.\n",
    "-\n"
   ]
  },
  {
   "cell_type": "code",
   "execution_count": 20,
   "metadata": {
    "slideshow": {
     "slide_type": "fragment"
    }
   },
   "outputs": [
    {
     "name": "stdout",
     "output_type": "stream",
     "text": [
      "[' bc', 'ABC', 'XYZ', 'abc', 'ac', 'Å', 'å', 'é']\n"
     ]
    }
   ],
   "source": [
    "# prøv å gjette rekkefølgende for følgende variable, fra minst til størst:\n",
    "t1 = \"abc\"\n",
    "t2 = \"ac\"\n",
    "t3 = \"ABC\"\n",
    "t4 = \"XYZ\"\n",
    "t5 = \" bc\"\n",
    "t6 = \"Å\"\n",
    "t7 = \"å\"\n",
    "t8 = \"é\"\n",
    "# sorted(liste) vil returnere en sortert liste med de samme elementene som input listen\n",
    "print(sorted([t1,t2,t3,t4,t5,t6,t7,t8]))  "
   ]
  },
  {
   "cell_type": "markdown",
   "metadata": {
    "slideshow": {
     "slide_type": "fragment"
    }
   },
   "source": [
    "Det finnes bibliotek som håndterer språk og alfabetisk sortering korrekt etter språkets regler."
   ]
  },
  {
   "cell_type": "markdown",
   "metadata": {
    "slideshow": {
     "slide_type": "slide"
    }
   },
   "source": [
    "## Idenitetsoperatorer\n",
    "I noen situasjoner ønsker vi å vite to variable refererer til *samme dataobjekt*, ikke bare at de har likt innhold.\n"
   ]
  },
  {
   "cell_type": "code",
   "execution_count": 1,
   "metadata": {
    "slideshow": {
     "slide_type": "fragment"
    }
   },
   "outputs": [
    {
     "name": "stdout",
     "output_type": "stream",
     "text": [
      "Referer liste1 og liste2 til samme liste? True\n",
      "Er liste1 og liste3 like? True\n",
      "Er liste1 og liste3 samme liste? False\n"
     ]
    }
   ],
   "source": [
    "liste1 = [1,2,3]\n",
    "liste2 = liste1\n",
    "liste3 = [1,2,3]\n",
    "\n",
    "print(\"Referer liste1 og liste2 til samme liste?\", liste1 is liste2)\n",
    "print(\"Er liste1 og liste3 like?\", liste1 == liste2)\n",
    "print(\"Er liste1 og liste3 samme liste?\", liste1 is liste3)"
   ]
  },
  {
   "cell_type": "markdown",
   "metadata": {
    "slideshow": {
     "slide_type": "slide"
    }
   },
   "source": [
    "## Medlemskaps-operatorer, inneholder\n",
    "Vi kan spørre om en liste eller array inneholder et gitt element med operatorene **in** og **not in**.\n",
    "Disse fungerer for lister og strenger.\n"
   ]
  },
  {
   "cell_type": "code",
   "execution_count": 15,
   "metadata": {
    "slideshow": {
     "slide_type": "fragment"
    }
   },
   "outputs": [
    {
     "name": "stdout",
     "output_type": "stream",
     "text": [
      "Er \"hei\" med i liste? True\n",
      "Er 10 med i np_array? True\n",
      "Er 1.0 med i np_array? False\n",
      "Er 1.0 med i np_array? True\n"
     ]
    }
   ],
   "source": [
    "import numpy as np\n",
    "\n",
    "liste = [1,2,\"hei\"]\n",
    "print('Er \"hei\" med i liste?', \"hei\" in liste)    # True\n",
    "\n",
    "np_array = np.linspace(0.0, 10.0, 10)     # Husk at denne lager en liste med 10 tall jevnt fordelt fra 0 til 10\n",
    "print('Er 10 med i np_array?', 10 in np_array)      # True siden \n",
    "print('Er 1.0 med i np_array?', 1 in np_array)      # False siden 10 tall gir 9 intervaller\n",
    "print('Er 1.0 med i np_array?', 1.0 in np.linspace(0.0, 10.0, 11))    # True!"
   ]
  },
  {
   "cell_type": "markdown",
   "metadata": {
    "slideshow": {
     "slide_type": "slide"
    }
   },
   "source": [
    "## Delstrenger\n",
    "En streng ER IKKE en liste, teknisk sett, men \n",
    "i Python så kan en tenke på dem litt som lister,\n",
    "dvs. som en sekvens av tegn. \n",
    "\n",
    "**NB! Pass også på store og små bokstaver!** \n",
    "Hvis man ikke bryr seg om forskjellen på liten eller stor, så kan\n",
    "en lage en versjon med bare små bokstaver, med funksjonene `lower()` eller til store, med `upper()`.\n",
    "\n",
    "I koden under har vi brukt såkalte f-strings: Hvis vi setter en f foran fnutten, og skriver et\n",
    "variabelnavn inne i krøllparanteser i strengen, så vil Python hente innholdet til variabelen og \n",
    "sette det inn i den resulterende teksten.\n",
    "\n",
    "Klarer du å tolke Python-koden under?"
   ]
  },
  {
   "cell_type": "code",
   "execution_count": 14,
   "metadata": {
    "slideshow": {
     "slide_type": "subslide"
    }
   },
   "outputs": [
    {
     "name": "stdout",
     "output_type": "stream",
     "text": [
      "Er \"A\" == \"a\"? False\n",
      "Finnes \"A\" i \"Espen Askeladd\"? True\n",
      "Finnes \"a\" i \"Espen Askeladd\"? True\n",
      "Finnes \"S\" i \"Espen Askeladd\"? False\n",
      "Finnes \"S\" i \"Espen Askeladd\".upper()? True\n"
     ]
    }
   ],
   "source": [
    "print('Er \"A\" == \"a\"?', \"A\" == \"a\")   # False siden store og små bokstaver er forskjellige\n",
    "\n",
    "navn = \"Espen Askeladd\"\n",
    "\n",
    "print(f'Finnes \"A\" i \"{navn}\"?', \"A\" in navn)\n",
    "print(f'Finnes \"a\" i \"{navn}\"?', \"a\" in navn)\n",
    "print(f'Finnes \"S\" i \"{navn}\"?', \"S\" in navn)\n",
    "\n",
    "print(f'Finnes \"S\" i \"{navn}\".upper()?', \"S\" in navn.upper())\n"
   ]
  },
  {
   "cell_type": "code",
   "execution_count": null,
   "metadata": {
    "slideshow": {
     "slide_type": "fragment"
    }
   },
   "outputs": [],
   "source": [
    "# For strenger kan bruke `in`-operatoren til å sjekke for delstrenger, dvs om en streng er en del av en annen streng\n",
    "# Dette fungerer ikke med lister eller numpy arrays, "
   ]
  },
  {
   "cell_type": "code",
   "execution_count": 16,
   "metadata": {},
   "outputs": [
    {
     "name": "stdout",
     "output_type": "stream",
     "text": [
      "True\n"
     ]
    }
   ],
   "source": [
    "print(\"Ask\" in navn)    # True"
   ]
  }
 ],
 "metadata": {
  "kernelspec": {
   "display_name": "base",
   "language": "python",
   "name": "python3"
  },
  "language_info": {
   "codemirror_mode": {
    "name": "ipython",
    "version": 3
   },
   "file_extension": ".py",
   "mimetype": "text/x-python",
   "name": "python",
   "nbconvert_exporter": "python",
   "pygments_lexer": "ipython3",
   "version": "3.11.7"
  }
 },
 "nbformat": 4,
 "nbformat_minor": 2
}
