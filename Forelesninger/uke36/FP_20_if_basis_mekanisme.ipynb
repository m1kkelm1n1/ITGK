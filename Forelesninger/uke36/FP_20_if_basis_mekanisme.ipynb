{
 "cells": [
  {
   "cell_type": "markdown",
   "id": "51353c6a",
   "metadata": {
    "slideshow": {
     "slide_type": "slide"
    }
   },
   "source": [
    "# if-setninger, VIRKEMÅTE (if, if-else, if-elif-else)\n",
    "I mange programmer har vi kodelinjer som skal utføres bare under visse betingelser. F.eks. at fartsbot bare skal gis dersom farten var for høy, at varme tilført et rom bare skal økes hvis temperaturen for øyeblikket er lavere enn man ønsker, etc.\n",
    "\n",
    "Den vanligste programmeringsmekanismen for å oppnå slik betinget oppførsel er if-setninger."
   ]
  },
  {
   "cell_type": "markdown",
   "id": "278df00d",
   "metadata": {},
   "source": [
    "Vi vil her dekke tre typer if-setninger:\n",
    "- if\n",
    "- if-else\n",
    "- if-elif-(elif-...)-else\n",
    "\n",
    "Eksempelfunksjonene under gjør ikke noe nyttig, de er bare ment å vise eksakt hvordan if-setninger fungerer. Poenget med alle funksjonene er at hver kodelinje som begynner med variabelnavnet __tekst__ legger en ny bokstav til denne tekststrengen. Vi kan dermed enkelt se __hvilke kodelinjer__ som er blitt utført ut fra hvilke bokstaver som inngår i tekststrengen som returneres fra funksjonen."
   ]
  },
  {
   "cell_type": "markdown",
   "id": "e752cb0f",
   "metadata": {},
   "source": [
    "## Enkle if-setninger\n",
    "De tre funksjonene if_True(), if_False_1() og if_False_2() under inneholder hver sin enkle if-setning. Kjøring av disse illustrerer if-setningens virkemåte:"
   ]
  },
  {
   "cell_type": "code",
   "execution_count": 6,
   "id": "8b6c27df",
   "metadata": {},
   "outputs": [
    {
     "name": "stdout",
     "output_type": "stream",
     "text": [
      "if_True() lager teksten abcd\n"
     ]
    }
   ],
   "source": [
    "def if_True():\n",
    "    tekst = 'a'\n",
    "    if True:\n",
    "        tekst += 'b'\n",
    "        tekst += 'c'\n",
    "    tekst += 'd'\n",
    "    return tekst\n",
    "\n",
    "print(f'if_True() lager teksten {if_True()}')"
   ]
  },
  {
   "cell_type": "code",
   "execution_count": 4,
   "id": "22a06adc",
   "metadata": {},
   "outputs": [
    {
     "name": "stdout",
     "output_type": "stream",
     "text": [
      "if_False_1() lager teksten acd\n"
     ]
    }
   ],
   "source": [
    "def if_False_1():\n",
    "    tekst = 'a'\n",
    "    if False:\n",
    "        tekst += 'b'\n",
    "    tekst += 'c'\n",
    "    tekst += 'd'\n",
    "    return tekst\n",
    "    \n",
    "print(f'if_False_1() lager teksten {if_False_1()}')"
   ]
  },
  {
   "cell_type": "code",
   "execution_count": 3,
   "id": "bbe179f5",
   "metadata": {},
   "outputs": [
    {
     "name": "stdout",
     "output_type": "stream",
     "text": [
      "if_False_2() lager teksten ad\n"
     ]
    }
   ],
   "source": [
    "def if_False_2():\n",
    "    tekst = 'a'\n",
    "    if False:\n",
    "        tekst += 'b'\n",
    "        tekst += 'c'\n",
    "    tekst += 'd'\n",
    "    return tekst\n",
    "    \n",
    "print(f'if_False_2() lager teksten {if_False_2()}')"
   ]
  },
  {
   "cell_type": "markdown",
   "id": "cc055761",
   "metadata": {},
   "source": [
    "Som vi ser av resultatet av kjøring av funksjonene over:\n",
    "- med __True__ bak if, blir kodelinje(r) som er __rykket inn__ under if, utført\n",
    "    - jamfør at funksjonen if_True() returnerer 'abcd', dvs. alle kodelinjene som legger en bokstav til strengen blir utført\n",
    "- med __False__ bak if, blir kodelinje(r) som er rykket inn under if, derimot __ikke__ utført\n",
    "    - jamfør at if_False_1() lager teksten __acd__, dvs. alle kodelinjer unntatt den med 'b' blir utført, fordi bare denne står på innrykk under if\n",
    "    - mens if_False_2() lager teksten __ad__. Her står både linje med 'b' og med 'c' på innrykk, og blir ikke utført\n",
    "\n",
    "Det er altså slik at\n",
    "- innrykk under if avgjør hvilke kodelinjer som tilhører if-setningen\n",
    "- verdien vi har bak if (True eller False) avgjør om disse kodelinjene utføres"
   ]
  },
  {
   "cell_type": "markdown",
   "id": "482fb995",
   "metadata": {},
   "source": [
    "Å ha __True__ og __False__ direkte etter if, gir ikke særlig mening (annet enn for å illustrere hvordan mekanismen virker). \n",
    "\n",
    "F.eks. kunne funksjonen if_False() enklere ha vært skrevet __uten__ if-setningen med tilhørende kodelinjer siden vi vet den uansett ikke kommer til å bli utført:"
   ]
  },
  {
   "cell_type": "code",
   "execution_count": null,
   "id": "99046253",
   "metadata": {},
   "outputs": [],
   "source": [
    "def if_False(): ## Denne funksjonen gir samme resultat som if_False() over...\n",
    "    tekst = 'a'\n",
    "    tekst += 'd'\n",
    "    return tekst\n",
    "    \n",
    "print(f'if_False() lager teksten {if_False()}')"
   ]
  },
  {
   "cell_type": "markdown",
   "id": "561cbe86",
   "metadata": {},
   "source": [
    "Poenget med if-setninger er at man kan ha betingelser annet enn bare True eller False,\n",
    "- hvor resultatet kan variere f.eks. basert på verdiene til variable:"
   ]
  },
  {
   "cell_type": "code",
   "execution_count": 7,
   "id": "0b426fcd",
   "metadata": {},
   "outputs": [
    {
     "name": "stdout",
     "output_type": "stream",
     "text": [
      "if_x_above_0(5) lager teksten abcd\n",
      "if_x_above_0(-2) lager teksten ad\n",
      "if_x_above_0(0) lager teksten ad\n"
     ]
    }
   ],
   "source": [
    "def if_x_above_0(x):\n",
    "    tekst = 'a'\n",
    "    if x > 0:\n",
    "        tekst += 'b'\n",
    "        tekst += 'c'\n",
    "    tekst += 'd'\n",
    "    return tekst\n",
    "\n",
    "print(f'if_x_above_0(5) lager teksten {if_x_above_0(5)}')\n",
    "print(f'if_x_above_0(-2) lager teksten {if_x_above_0(-2)}')\n",
    "print(f'if_x_above_0(0) lager teksten {if_x_above_0(0)}')"
   ]
  },
  {
   "cell_type": "markdown",
   "id": "58eb7a66",
   "metadata": {},
   "source": [
    "Som vi ser i av kjøringen over:\n",
    "- når 5 settes inn for x, blir betingelsen True, og kodelinjene med 'b' og 'c' utføres\n",
    "- når -2 eller 0 settes inn for x, blir betingelsen False, så de utføres ikke\n",
    "\n",
    "Eksemplet over er heller ikke åpenbart nyttig (og kun ment å illustrere mekanismens virkemåte), men generelt kan betingelsen være hva som helst: hvis temperaturen er for lav skal du gjøre noe (f.eks. tilføre varme), hvis plantejorden er for tørr skal du gjøre noe (tilføre fuktighet), mens hvis slik betingelse ikke er innfridd, skal man ikke foreta seg noe."
   ]
  },
  {
   "cell_type": "markdown",
   "id": "8d8cb056",
   "metadata": {},
   "source": [
    "## if-else-setninger\n",
    "if-setninger dekker tilfellet hvor vi skal utføre en handling når en betingelse er tilfredsstilt, og alternativt ikke gjøre noe. \n",
    "\n",
    "I mange situasjoner er det imidlertid slik at vi skal utføre noe hvis betingelsen er sann, og noe annet hvis den er usann. F.eks. godta en betaling hvis det er skrevet inn riktig PIN-kode, avvise betalingen og gi feilmelding hvis ikke. Til dette brukes if-else-setninger, og virkemåten til disse illustreres tilsvarende:"
   ]
  },
  {
   "cell_type": "code",
   "execution_count": 8,
   "id": "dedb5338",
   "metadata": {},
   "outputs": [
    {
     "name": "stdout",
     "output_type": "stream",
     "text": [
      "abcf\n",
      "adef\n",
      "adef\n"
     ]
    }
   ],
   "source": [
    "def if_else(x):\n",
    "    tekst = 'a'\n",
    "    if x > 0:\n",
    "        tekst += 'b'\n",
    "        tekst += 'c'\n",
    "    else:\n",
    "        tekst += 'd'\n",
    "        tekst += 'e'\n",
    "    tekst += 'f'\n",
    "    return tekst\n",
    "\n",
    "print(if_else(2))\n",
    "print(if_else(0))\n",
    "print(if_else(-1))"
   ]
  },
  {
   "cell_type": "markdown",
   "id": "3a5b3661",
   "metadata": {},
   "source": [
    "Som vi ser av kjøringen:\n",
    "- når 2 settes inn for x, blir betingelsen True (fordi 2 > 0 er sant)\n",
    "    - funksjonen utfører da linjene med 'b' og 'c', men __ikke__ med 'd' og 'e'\n",
    "- når 0 eller -1 settes inn for x, blir betingelsen False (fordi 0 > 0 eller -1 > 0 ikke er sant)\n",
    "    - funksjonen utfører da __ikke__ linjene med 'b' og 'c', men __derimot__ linjene med 'd' og 'e'\n",
    "    - kodelinjerne med 'a' som er før if-else-setningen, og 'f' som er etter if-else-setningen (tilbake på margen utenfor), blir alltid utført i denne funksjonen\n",
    "    \n",
    "I en if-else setning vil vi alltid gjøre enten setningen(e) som tilhører if, eller setningen(e) som tilhører else, men aldri begge deler."
   ]
  },
  {
   "cell_type": "markdown",
   "id": "7e577855",
   "metadata": {},
   "source": [
    "## if-elif-else-setninger\n",
    "I mange situasjoner har man ikke bare to alternative handlinger man skal velge mellom, men tre eller flere alternativ. Dette behovet kan dekkes på ulike måter:\n",
    "- nøste if-else-setninger inni hverandre i flere nivåer\n",
    "- (ofte enklere) if-elif-else-setninger\n",
    "\n",
    "I if-elif-else-setning har\n",
    "- en if-del (virker på samme måte som i en if-else)\n",
    "- et vilkårlig antall elif-deler (1 eller flere)\n",
    "- en avsluttende else-del, som utføres hvis verken if-delen eller noen av elif-delene ble True.\n",
    "\n",
    "Man vil dermed velge å utføre __ett av alternativene__, nemlig det første som slår til med å være __True__."
   ]
  },
  {
   "cell_type": "code",
   "execution_count": 10,
   "id": "6560c1ed",
   "metadata": {},
   "outputs": [
    {
     "name": "stdout",
     "output_type": "stream",
     "text": [
      "abf\n"
     ]
    }
   ],
   "source": [
    "def if_elif_else_3xTrue():\n",
    "    tekst = 'a'\n",
    "    if True:\n",
    "        tekst += 'b'\n",
    "    elif True:\n",
    "        tekst += 'c'\n",
    "    elif True:\n",
    "        tekst += 'd'\n",
    "    else:\n",
    "        tekst += 'e'\n",
    "    tekst += 'f'\n",
    "    return tekst\n",
    "\n",
    "print(if_elif_else_3xTrue())"
   ]
  },
  {
   "cell_type": "markdown",
   "id": "3ba35482",
   "metadata": {},
   "source": [
    "Som vi ser av resultatet over: \n",
    "- både if og begge elif i funksjonen if_elif_else_3xTrue() har True, \n",
    "- kun 'abf' blir returnert. Kodelinjene med 'c', 'd', 'e' blir ikke utført fordi if-delen allerede har slått til med True.\n",
    "\n",
    "Likeledes med funksjonen ...2xTrue() under:\n",
    "- her blir 'b' ikke med fordi vi har False.\n",
    "- 'acf' blir returnert. 'c' blir med fordi dens elif er den første som har True.\n",
    "- straks denne har slått til med True, blir øvrige elif og else forbipassert så 'd' og 'e' ikke blir med i returstrengen."
   ]
  },
  {
   "cell_type": "code",
   "execution_count": 12,
   "id": "5d72d504",
   "metadata": {},
   "outputs": [
    {
     "name": "stdout",
     "output_type": "stream",
     "text": [
      "acf\n"
     ]
    }
   ],
   "source": [
    "def if_elif_else_2xTrue():\n",
    "    tekst = 'a'\n",
    "    if False:\n",
    "        tekst += 'b'\n",
    "    elif True:\n",
    "        tekst += 'c'\n",
    "    elif True:\n",
    "        tekst += 'd'\n",
    "    else:\n",
    "        tekst += 'e'\n",
    "    tekst += 'f'\n",
    "    return tekst\n",
    "\n",
    "print(if_elif_else_2xTrue())"
   ]
  },
  {
   "cell_type": "code",
   "execution_count": 13,
   "id": "fefa3d9a",
   "metadata": {},
   "outputs": [
    {
     "name": "stdout",
     "output_type": "stream",
     "text": [
      "aef\n"
     ]
    }
   ],
   "source": [
    "def if_elif_else_all_False():\n",
    "    tekst = 'a'\n",
    "    if False:\n",
    "        tekst += 'b'\n",
    "    elif False:\n",
    "        tekst += 'c'\n",
    "    elif False:\n",
    "        tekst += 'd'\n",
    "    else:\n",
    "        tekst += 'e'\n",
    "    tekst += 'f'\n",
    "    return tekst\n",
    "\n",
    "print(if_elif_else_all_False())"
   ]
  },
  {
   "cell_type": "markdown",
   "id": "0b201be2",
   "metadata": {},
   "source": [
    "I koden for if_elif_else_all_False() har vi False både på if og alle elif. \n",
    "- Da (og kun da) ender vi opp med å utføre koden som står på else.\n",
    "- Returnert streng blir dermed 'aef'\n",
    "\n",
    "Som tidligere: 'a' som kommer foran if-elif-else-strukturen, og 'f' som kommer etter (rykket ut til forrige marg, dermed ikke del av else) blir utført hver gang."
   ]
  },
  {
   "cell_type": "markdown",
   "id": "70033b23",
   "metadata": {},
   "source": [
    "Siden if-elif-else kun slår til på ett av alternativene, selv om flere er True, er det viktig å sette betingelsene i riktig rekkefølge i forhold til logikken i beslutningen. \n",
    "\n",
    "Funksjonen i eksemplet under, skal regne ut karakter i henhold til NTNU sin prosentpoengregel (som vel å merke er en anbefaling, ikke en absolutt regel), men gjør dette på feil måte:"
   ]
  },
  {
   "cell_type": "code",
   "execution_count": 16,
   "id": "903d4194",
   "metadata": {},
   "outputs": [
    {
     "name": "stdout",
     "output_type": "stream",
     "text": [
      "F\n",
      "F\n",
      "F\n"
     ]
    }
   ],
   "source": [
    "def karakter_fra_poeng(poeng):\n",
    "    '''Inn: en poengsum mellom 0-100 som er scoret på en eksamen\n",
    "       Retur: anbefalt karakter etter NTNUs prosentpoengmetode\n",
    "       https://i.ntnu.no/wiki/-/wiki/Norsk/Prosentvurderingsmetoden'''\n",
    "    if poeng > 0:\n",
    "        karakter = 'F'\n",
    "    elif poeng > 40:\n",
    "        karakter = 'E'\n",
    "    elif poeng > 52:\n",
    "        karakter = 'D'\n",
    "    elif poeng > 64:\n",
    "        karakter = 'C'\n",
    "    elif poeng > 76:\n",
    "        karakter = 'B'\n",
    "    elif poeng > 88:\n",
    "        karakter = 'A'\n",
    "    else:\n",
    "        karakter = 'Udefinert, umulig poengsum'\n",
    "    return karakter\n",
    "\n",
    "print(karakter_fra_poeng(21))\n",
    "print(karakter_fra_poeng(55))\n",
    "print(karakter_fra_poeng(98))"
   ]
  },
  {
   "cell_type": "markdown",
   "id": "4f37d0ed",
   "metadata": {},
   "source": [
    "Som vi ser, endte alle opp med F, enten de hadde dårlig, middels eller høy score på eksamen.\n",
    "\n",
    "Dette skjedde fordi betingelsene var satt i dum retning og rekkefølge. Denne if-elif-else-setningen vil uansett poeng (annet enn feilaktig negativ poengsum) slå til med True på første alternativ poeng > 0, og dermed får alle F.\n",
    "\n",
    "Mulige løsninger:\n",
    "- enten endre betingelsene til å være <= 40, <= 52, osv.\n",
    "- eller endre rekkefølgen: starte med >88 som gir A, så >76 som gir B, osv."
   ]
  },
  {
   "cell_type": "code",
   "execution_count": null,
   "id": "66df888f",
   "metadata": {},
   "outputs": [],
   "source": []
  }
 ],
 "metadata": {
  "kernelspec": {
   "display_name": "Python 3 (ipykernel)",
   "language": "python",
   "name": "python3"
  },
  "language_info": {
   "codemirror_mode": {
    "name": "ipython",
    "version": 3
   },
   "file_extension": ".py",
   "mimetype": "text/x-python",
   "name": "python",
   "nbconvert_exporter": "python",
   "pygments_lexer": "ipython3",
   "version": "3.9.7"
  }
 },
 "nbformat": 4,
 "nbformat_minor": 5
}
