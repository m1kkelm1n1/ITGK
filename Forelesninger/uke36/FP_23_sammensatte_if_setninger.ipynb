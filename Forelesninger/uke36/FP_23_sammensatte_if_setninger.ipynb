{
 "cells": [
  {
   "cell_type": "markdown",
   "metadata": {},
   "source": [
    "## Sammensatte betingelser i if setninger\n",
    "\n",
    "Ved bruk av if setninger er man ikke begrenset til en betingelse. I denne notebooken skal vi se nærmere på hvordan vi ved bruk av logiske operatører kan kombinere flere betingelser. Dette inkluderer bruk av logiske operatører som _and_, _or_ og _not_. Vi vil også se nærmere på rekkefølgen betingelser tolkes av Python. Dette har en påvirkning på hvordan vi bør sette opp betingelsene."
   ]
  },
  {
   "cell_type": "markdown",
   "metadata": {},
   "source": [
    "__Boolean Algebra__\n",
    "\n",
    "For å forstå hvordan man kombinerer flere betingelser i Python er det viktig å forstå enkel boolean algebra. Boolean algebra er en gren innenfor matematikken som håndterer operasjoner med True og False. Det er altså en måte regne logikk på. De to viktigste operatørene vi har er `and` og `or`. Si vi har to boolske variabler X og Y som tar verdiene True eller False. Operatøren `and` regner verdiem for X og Y. Den er True dersom både X og Y er True, ellers False. `Or` sjekker om en av variablene er True, det vil si X eller Y. Dersom en variabel eller begge variablene er True er `X or Y` også True. Hvis ingen av variablene er True returnerer den False. \n",
    "\n",
    "Tabellen under viser verdiene for `and` og `or` operatørene for alle kombinasjoner av X og Y.\n",
    "\n",
    "\n",
    "| X     | Y     | AND   | OR    |\n",
    "|-------|-------|-------|-------|\n",
    "| False | False | False | False |\n",
    "| True  | False | False | True  |\n",
    "| False | True  | False | True  |\n",
    "| True  | True  | True  | True  |\n",
    "\n",
    "Under følger eksempeler på dette i Python."
   ]
  },
  {
   "cell_type": "code",
   "execution_count": 6,
   "metadata": {},
   "outputs": [
    {
     "name": "stdout",
     "output_type": "stream",
     "text": [
      "X and Y:  False\n",
      "X or Y: True\n",
      "X and Z: True\n",
      "X or Z True\n"
     ]
    }
   ],
   "source": [
    "X = True\n",
    "Y = False\n",
    "Z = True\n",
    "\n",
    "print(\"X and Y: \", X and Y)\n",
    "print(\"X or Y:\", X or Y)\n",
    "print(\"X and Z:\", X and Z)\n",
    "print(\"X or Z\", X or Z)"
   ]
  },
  {
   "cell_type": "markdown",
   "metadata": {},
   "source": [
    "Det finnes også andre viktige operatører i Boolean Algebra. For eksempel `not`. Dersom vi har en variabel `X=True` vil `(not X) == False` som du kan se i kodesnutten under."
   ]
  },
  {
   "cell_type": "code",
   "execution_count": 10,
   "metadata": {},
   "outputs": [
    {
     "name": "stdout",
     "output_type": "stream",
     "text": [
      "not X: False\n",
      "X and Y:  True\n",
      "not (X and Y): False\n"
     ]
    }
   ],
   "source": [
    "X = True\n",
    "print(\"not X:\", not X)\n",
    "\n",
    "Y = True\n",
    "print(\"X and Y: \", X and Y)\n",
    "# her tar vi not foran verdien på X and Y\n",
    "print(\"not (X and Y):\", not (X and Y))"
   ]
  },
  {
   "cell_type": "markdown",
   "metadata": {},
   "source": [
    "`Not` operatøren kan kombiners med `and` operatøren for å sjekke om både X og Y er False:"
   ]
  },
  {
   "cell_type": "code",
   "execution_count": 7,
   "metadata": {},
   "outputs": [
    {
     "name": "stdout",
     "output_type": "stream",
     "text": [
      "(not X) and (not Y):  True\n"
     ]
    }
   ],
   "source": [
    "X = False\n",
    "Y = False\n",
    "\n",
    "# printer not X and not Y\n",
    "print(\"(not X) and (not Y): \", (not X) and (not Y))"
   ]
  },
  {
   "cell_type": "markdown",
   "metadata": {},
   "source": [
    "__Kombinere betingelser med and og or__\n",
    "\n",
    "I mange situasjoner har du et behov for at kode skal kjøre dersom en kolleksjon av betingelser er oppfylt. Et eksempel er dersom du skal evaluere om et tall er i et intervall. Si vi skal sjekke om tallet er mellom 0 og 10. Da må vi både sjekke at tallet er større enn 0 og at tallet er mindre enn 10. I Python gjør vi dette med å sette _and_ mellom de to betingelse."
   ]
  },
  {
   "cell_type": "code",
   "execution_count": 11,
   "metadata": {},
   "outputs": [
    {
     "name": "stdout",
     "output_type": "stream",
     "text": [
      "Tallet 5 er i intervallet 0 til 10\n"
     ]
    }
   ],
   "source": [
    "tall = 5\n",
    "\n",
    "if (tall > 0) and (tall < 10): # et eksempel på bruk av and\n",
    "    print(\"Tallet %d er i intervallet 0 til 10\" % tall)\n",
    "else:\n",
    "    print(\"Tallet %d er ikke i intervallet 0 til 10\" % tall)"
   ]
  },
  {
   "cell_type": "code",
   "execution_count": 12,
   "metadata": {},
   "outputs": [
    {
     "name": "stdout",
     "output_type": "stream",
     "text": [
      "Tallet 12 er ikke i intervallet 0 til 10\n"
     ]
    }
   ],
   "source": [
    "tall = 12\n",
    "\n",
    "if (tall > 0) and (tall < 10): # et eksempel på bruk av and\n",
    "    print(\"Tallet %d er i intervallet 0 til 10\" % tall)\n",
    "else:\n",
    "    print(\"Tallet %d er ikke i intervallet 0 til 10\" % tall)"
   ]
  },
  {
   "cell_type": "markdown",
   "metadata": {},
   "source": [
    "En annen logisk operatør vi kan bruke er _or_. Denne returnerer True dersom en av X og Y er True eller begge er True. Under bruker vi `or` til å sjekke om en variabel er enten en integer eller en float."
   ]
  },
  {
   "cell_type": "code",
   "execution_count": 13,
   "metadata": {},
   "outputs": [
    {
     "name": "stdout",
     "output_type": "stream",
     "text": [
      "variabel1 er int eller float\n"
     ]
    }
   ],
   "source": [
    "variabel1 = 5\n",
    "\n",
    "# type(X) gir datatypen til X\n",
    "if (type(variabel1)==int) or (type(variabel1)==float):\n",
    "    print(\"variabel1 er int eller float\")\n",
    "else:\n",
    "    print(\"variabel1 er ikke int eller float\")"
   ]
  },
  {
   "cell_type": "code",
   "execution_count": 14,
   "metadata": {},
   "outputs": [
    {
     "name": "stdout",
     "output_type": "stream",
     "text": [
      "variabel1 er int eller float\n"
     ]
    }
   ],
   "source": [
    "variabel1 = 5.0\n",
    "\n",
    "if (type(variabel1)==int) or (type(variabel1)==float):\n",
    "    print(\"variabel1 er int eller float\")\n",
    "else:\n",
    "    print(\"variabel1 er ikke int eller float\")"
   ]
  },
  {
   "cell_type": "code",
   "execution_count": 15,
   "metadata": {},
   "outputs": [
    {
     "name": "stdout",
     "output_type": "stream",
     "text": [
      "variabel1 er ikke int eller float\n"
     ]
    }
   ],
   "source": [
    "variabel1 = \"5\"\n",
    "\n",
    "if (type(variabel1)==int) or (type(variabel1)==float):\n",
    "    print(\"variabel1 er int eller float\")\n",
    "else:\n",
    "    print(\"variabel1 er ikke int eller float\")"
   ]
  },
  {
   "cell_type": "markdown",
   "metadata": {},
   "source": [
    "Vi kan også kombinere _and_ og _or_ for å lage mer komplisert if betingelser. For eksempel følgende kodesnutt som sjekker om tallet er i et av de spesifiserte intervallene. I kodesnuttet er de to intervallene vi sjekker [0,10] og [20,30]."
   ]
  },
  {
   "cell_type": "code",
   "execution_count": 16,
   "metadata": {},
   "outputs": [
    {
     "name": "stdout",
     "output_type": "stream",
     "text": [
      "Tallet 8 er i et av intervallene\n"
     ]
    }
   ],
   "source": [
    "tall = 8\n",
    "\n",
    "if ((tall > 0) and (tall < 10)) or ((tall >20) and (tall<30)):\n",
    "    print(\"Tallet %d er i et av intervallene\" % tall)\n",
    "else:\n",
    "    print(\"Tallet %d er ikke i noen av intervallene.\" % tall)\n"
   ]
  },
  {
   "cell_type": "markdown",
   "metadata": {},
   "source": [
    "Vi kan også kombinere flere enn to logiske betingelser:"
   ]
  },
  {
   "cell_type": "code",
   "execution_count": 17,
   "metadata": {},
   "outputs": [
    {
     "name": "stdout",
     "output_type": "stream",
     "text": [
      "X and Y and Z:  False\n",
      "X or Y or Z:  True\n",
      "Y or (X and Z):  True\n"
     ]
    }
   ],
   "source": [
    "X = True\n",
    "Y = False\n",
    "Z = True\n",
    "\n",
    "print(\"X and Y and Z: \", X and Y and Z)\n",
    "print(\"X or Y or Z: \", X or Y or Z)\n",
    "print(\"Y or (X and Z): \", Y or (X and Z))"
   ]
  },
  {
   "cell_type": "markdown",
   "metadata": {},
   "source": [
    "NB: Husk å bruk parantes når du kombinerer logiske operatorer. Disse følger vanlige regneregler du er kjent med fra matematikken. Det vil si at det evalueres fra venstre til høyre og at paranteser evalueres først."
   ]
  },
  {
   "cell_type": "markdown",
   "metadata": {},
   "source": [
    "__Eksempel som også bruker not__"
   ]
  },
  {
   "cell_type": "markdown",
   "metadata": {},
   "source": [
    "__Zero Division Error__"
   ]
  },
  {
   "cell_type": "markdown",
   "metadata": {},
   "source": [
    "Et annet nyttig element å forstå når du bruker if setninger er rekkefølgen betingelsene blir utført i. Python utfører betingelser fra venstre til høyre. Python bruker også noe som kalles kortslutningsevaluering (lazy evaluation). Si du har to betingelser: X og Y og du vil sjekke om minst en av de er sann. Med andre ord vil du evaluere `X or Y`. Denne vil være True dersom X = True, Y = True, eller både X og Y er True. Så dersom X er True og Python leser betingelser fra venstre vil ikke statementet til høyre ha behov for å kjøre. "
   ]
  },
  {
   "cell_type": "code",
   "execution_count": 5,
   "metadata": {},
   "outputs": [
    {
     "name": "stdout",
     "output_type": "stream",
     "text": [
      "Siden tall==0 er sann, vil denne setningen alltid skrives ut selv om betingelse nummer 2 gir en zero division error.\n",
      "Dette er fordi Python bruker kortslutningsevaluering av logiske uttrykk.\n"
     ]
    }
   ],
   "source": [
    "tall = 0\n",
    "\n",
    "if (tall==0) or (10/tall >= 1):\n",
    "    print(\"Siden tall==0 er sann, vil denne setningen alltid skrives ut selv om betingelse nummer 2 gir en zero division error.\")\n",
    "    print(\"Dette er fordi Python bruker kortslutningsevaluering av logiske uttrykk.\")"
   ]
  },
  {
   "cell_type": "code",
   "execution_count": 6,
   "metadata": {},
   "outputs": [
    {
     "ename": "ZeroDivisionError",
     "evalue": "division by zero",
     "output_type": "error",
     "traceback": [
      "\u001b[1;31m---------------------------------------------------------------------------\u001b[0m",
      "\u001b[1;31mZeroDivisionError\u001b[0m                         Traceback (most recent call last)",
      "\u001b[1;32m~\\AppData\\Local\\Temp/ipykernel_19252/1683375816.py\u001b[0m in \u001b[0;36m<module>\u001b[1;34m\u001b[0m\n\u001b[0;32m      1\u001b[0m \u001b[0mtall\u001b[0m \u001b[1;33m=\u001b[0m \u001b[1;36m0\u001b[0m\u001b[1;33m\u001b[0m\u001b[1;33m\u001b[0m\u001b[0m\n\u001b[1;32m----> 2\u001b[1;33m \u001b[1;32mif\u001b[0m \u001b[1;33m(\u001b[0m\u001b[1;36m10\u001b[0m\u001b[1;33m/\u001b[0m\u001b[0mtall\u001b[0m \u001b[1;33m>=\u001b[0m \u001b[1;36m1\u001b[0m\u001b[1;33m)\u001b[0m \u001b[1;32mor\u001b[0m \u001b[1;33m(\u001b[0m\u001b[0mtall\u001b[0m\u001b[1;33m>\u001b[0m\u001b[1;36m0\u001b[0m\u001b[1;33m)\u001b[0m\u001b[1;33m:\u001b[0m\u001b[1;33m\u001b[0m\u001b[1;33m\u001b[0m\u001b[0m\n\u001b[0m\u001b[0;32m      3\u001b[0m     \u001b[0mprint\u001b[0m\u001b[1;33m(\u001b[0m\u001b[1;34m\"Siden tall=0 vil betingelsen 10/tall gi en ZeroDivisionError.\"\u001b[0m\u001b[1;33m)\u001b[0m\u001b[1;33m\u001b[0m\u001b[1;33m\u001b[0m\u001b[0m\n",
      "\u001b[1;31mZeroDivisionError\u001b[0m: division by zero"
     ]
    }
   ],
   "source": [
    "tall = 0\n",
    "if (10/tall >= 1) or (tall>0):\n",
    "    print(\"Siden tall=0 vil betingelsen 10/tall gi en ZeroDivisionError.\")"
   ]
  },
  {
   "cell_type": "markdown",
   "metadata": {},
   "source": [
    "Som vi ser fra koden over går det fint å kjøre den øverste snutten da tall==0. Python leser da aldri den andre betingelsen. I snutt 2 får di derimot en ZeroDivisionError. Dette er fordi den først leser fra venstre til høyre."
   ]
  }
 ],
 "metadata": {
  "kernelspec": {
   "display_name": "Python 3.8.11 ('ada')",
   "language": "python",
   "name": "python3"
  },
  "language_info": {
   "codemirror_mode": {
    "name": "ipython",
    "version": 3
   },
   "file_extension": ".py",
   "mimetype": "text/x-python",
   "name": "python",
   "nbconvert_exporter": "python",
   "pygments_lexer": "ipython3",
   "version": "3.8.11"
  },
  "orig_nbformat": 4,
  "vscode": {
   "interpreter": {
    "hash": "4caa1ec5584986963d819277171fa07aa8ec5967f3252770a79fd2a35e97fb14"
   }
  }
 },
 "nbformat": 4,
 "nbformat_minor": 2
}
